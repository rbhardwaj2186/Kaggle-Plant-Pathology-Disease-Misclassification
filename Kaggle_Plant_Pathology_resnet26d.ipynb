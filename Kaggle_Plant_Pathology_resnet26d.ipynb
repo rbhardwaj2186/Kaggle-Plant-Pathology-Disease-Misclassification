{
  "cells": [
    {
      "cell_type": "markdown",
      "id": "a959d40a-c573-4f2f-8c2f-f8ab222f42d7",
      "metadata": {
        "execution": {
          "iopub.execute_input": "2022-11-11T16:57:58.765422Z",
          "iopub.status.busy": "2022-11-11T16:57:58.765219Z",
          "iopub.status.idle": "2022-11-11T16:57:58.784724Z",
          "shell.execute_reply": "2022-11-11T16:57:58.784198Z",
          "shell.execute_reply.started": "2022-11-11T16:57:58.765410Z"
        },
        "id": "a959d40a-c573-4f2f-8c2f-f8ab222f42d7"
      },
      "source": [
        "# <font color = 'pickle'> Install Libraries/ Set Google Colab"
      ]
    },
    {
      "cell_type": "code",
      "execution_count": 1,
      "id": "988cded9-e947-4978-916f-b73eff82d2fe",
      "metadata": {
        "colab": {
          "base_uri": "https://localhost:8080/"
        },
        "execution": {
          "iopub.execute_input": "2022-11-13T14:42:24.457942Z",
          "iopub.status.busy": "2022-11-13T14:42:24.457662Z",
          "iopub.status.idle": "2022-11-13T14:42:24.463184Z",
          "shell.execute_reply": "2022-11-13T14:42:24.462850Z",
          "shell.execute_reply.started": "2022-11-13T14:42:24.457928Z"
        },
        "id": "988cded9-e947-4978-916f-b73eff82d2fe",
        "outputId": "8b579eff-1dc6-449f-d4b7-0825923b899c",
        "tags": []
      },
      "outputs": [
        {
          "output_type": "stream",
          "name": "stdout",
          "text": [
            "Running on CoLab\n",
            "Drive already mounted at /content/drive; to attempt to forcibly remount, call drive.mount(\"/content/drive\", force_remount=True).\n"
          ]
        }
      ],
      "source": [
        "from pathlib import Path\n",
        "if 'google.colab' in str(get_ipython()):\n",
        "  print('Running on CoLab')\n",
        "  from google.colab import drive\n",
        "  drive.mount('/content/drive')\n",
        "  !pip install --upgrade fastai timm kaggle -qq\n",
        "  base_folder = Path('/content/drive/MyDrive/data')\n",
        "  data_folder = Path('/content')\n",
        "else:\n",
        "  base_folder = Path('/home/harpreet/Insync/google_drive_shaannoor/data')\n",
        "  data_folder = Path('/home/harpreet/data')\n",
        "  print('Not running on CoLab')"
      ]
    },
    {
      "cell_type": "markdown",
      "id": "1af95eb5-987d-4e37-b0e6-4f89a8bacce2",
      "metadata": {
        "id": "1af95eb5-987d-4e37-b0e6-4f89a8bacce2"
      },
      "source": [
        "# <font color = 'pickle'> Specify Project Folder"
      ]
    },
    {
      "cell_type": "code",
      "execution_count": 2,
      "id": "97a007f7-eef3-45f9-afe7-6a1dd5337918",
      "metadata": {
        "execution": {
          "iopub.execute_input": "2022-11-13T14:42:26.311102Z",
          "iopub.status.busy": "2022-11-13T14:42:26.310860Z",
          "iopub.status.idle": "2022-11-13T14:42:26.317150Z",
          "shell.execute_reply": "2022-11-13T14:42:26.316755Z",
          "shell.execute_reply.started": "2022-11-13T14:42:26.311087Z"
        },
        "id": "97a007f7-eef3-45f9-afe7-6a1dd5337918",
        "tags": []
      },
      "outputs": [],
      "source": [
        "kaggle_api = base_folder/'.kaggle'\n",
        "data_folder = data_folder/'inclass_kaggle_data'\n",
        "model_folder = base_folder/'models/dl_fall_2023/inclass_kaglle'\n",
        "archive_folder  = data_folder/'archive'"
      ]
    },
    {
      "cell_type": "code",
      "execution_count": 3,
      "id": "2fZgcP6YwHoE",
      "metadata": {
        "execution": {
          "iopub.execute_input": "2022-11-13T14:42:26.498804Z",
          "iopub.status.busy": "2022-11-13T14:42:26.498116Z",
          "iopub.status.idle": "2022-11-13T14:42:26.504034Z",
          "shell.execute_reply": "2022-11-13T14:42:26.503692Z",
          "shell.execute_reply.started": "2022-11-13T14:42:26.498789Z"
        },
        "id": "2fZgcP6YwHoE",
        "tags": []
      },
      "outputs": [],
      "source": [
        "data_folder.mkdir(exist_ok=True)\n",
        "kaggle_api.mkdir(exist_ok=True)\n",
        "model_folder.mkdir(exist_ok=True, parents=True)\n",
        "archive_folder.mkdir(exist_ok=True)\n"
      ]
    },
    {
      "cell_type": "code",
      "execution_count": 4,
      "id": "AmWeviMSfT1k",
      "metadata": {
        "execution": {
          "iopub.execute_input": "2022-11-13T14:42:26.899136Z",
          "iopub.status.busy": "2022-11-13T14:42:26.898661Z",
          "iopub.status.idle": "2022-11-13T14:42:26.904990Z",
          "shell.execute_reply": "2022-11-13T14:42:26.904643Z",
          "shell.execute_reply.started": "2022-11-13T14:42:26.899107Z"
        },
        "id": "AmWeviMSfT1k",
        "tags": []
      },
      "outputs": [],
      "source": [
        "import os\n",
        "if 'google.colab' in str(get_ipython()):\n",
        "    os.environ['KAGGLE_CONFIG_DIR'] = \"/content/drive/MyDrive/data/.kaggle/\""
      ]
    },
    {
      "cell_type": "code",
      "execution_count": 5,
      "id": "P4GBZapRgjCm",
      "metadata": {
        "execution": {
          "iopub.execute_input": "2022-11-13T14:42:27.149379Z",
          "iopub.status.busy": "2022-11-13T14:42:27.148920Z",
          "iopub.status.idle": "2022-11-13T14:42:27.155151Z",
          "shell.execute_reply": "2022-11-13T14:42:27.154677Z",
          "shell.execute_reply.started": "2022-11-13T14:42:27.149356Z"
        },
        "id": "P4GBZapRgjCm",
        "tags": []
      },
      "outputs": [],
      "source": [
        "if 'google.colab' in str(get_ipython()):\n",
        "    !chmod 600 /content/drive/MyDrive/data/.kaggle/kaggle.json"
      ]
    },
    {
      "cell_type": "code",
      "execution_count": 6,
      "id": "t2bDcqCGvIbV",
      "metadata": {
        "execution": {
          "iopub.execute_input": "2022-11-13T14:42:27.523625Z",
          "iopub.status.busy": "2022-11-13T14:42:27.523296Z",
          "iopub.status.idle": "2022-11-13T14:42:27.529450Z",
          "shell.execute_reply": "2022-11-13T14:42:27.529100Z",
          "shell.execute_reply.started": "2022-11-13T14:42:27.523609Z"
        },
        "id": "t2bDcqCGvIbV",
        "tags": [],
        "colab": {
          "base_uri": "https://localhost:8080/"
        },
        "outputId": "11b98664-cfb3-4860-8bb1-d2fbd57d04d2"
      },
      "outputs": [
        {
          "output_type": "stream",
          "name": "stdout",
          "text": [
            "-rw------- 1 root root 69 Nov 27 21:47 /content/drive/MyDrive/data/.kaggle/kaggle.json\n"
          ]
        }
      ],
      "source": [
        "if 'google.colab' in str(get_ipython()):\n",
        "    ! ls -la  /content/drive/MyDrive/data/.kaggle/kaggle.json"
      ]
    },
    {
      "cell_type": "markdown",
      "id": "c601e11c-9219-4105-a467-8c84a80c245f",
      "metadata": {
        "id": "c601e11c-9219-4105-a467-8c84a80c245f"
      },
      "source": [
        "# <font color = 'pickle'> Import Libraries"
      ]
    },
    {
      "cell_type": "code",
      "execution_count": 7,
      "id": "188f0e66-6cf0-477c-b99c-cc381da57e0c",
      "metadata": {
        "colab": {
          "base_uri": "https://localhost:8080/",
          "height": 36
        },
        "execution": {
          "iopub.execute_input": "2022-11-13T14:42:29.287949Z",
          "iopub.status.busy": "2022-11-13T14:42:29.287314Z",
          "iopub.status.idle": "2022-11-13T14:42:29.296982Z",
          "shell.execute_reply": "2022-11-13T14:42:29.296491Z",
          "shell.execute_reply.started": "2022-11-13T14:42:29.287934Z"
        },
        "id": "188f0e66-6cf0-477c-b99c-cc381da57e0c",
        "outputId": "b27b322f-492d-47ac-8e15-7b45c7bad727",
        "tags": []
      },
      "outputs": [
        {
          "output_type": "execute_result",
          "data": {
            "text/plain": [
              "'2.7.13'"
            ],
            "application/vnd.google.colaboratory.intrinsic+json": {
              "type": "string"
            }
          },
          "metadata": {},
          "execution_count": 7
        }
      ],
      "source": [
        "import fastai; fastai.__version__"
      ]
    },
    {
      "cell_type": "code",
      "execution_count": 8,
      "id": "2580966c-f719-4548-bf2b-80fe1b7cacd8",
      "metadata": {
        "execution": {
          "iopub.execute_input": "2022-11-13T14:42:32.348615Z",
          "iopub.status.busy": "2022-11-13T14:42:32.348416Z",
          "iopub.status.idle": "2022-11-13T14:42:35.007661Z",
          "shell.execute_reply": "2022-11-13T14:42:35.007029Z",
          "shell.execute_reply.started": "2022-11-13T14:42:32.348602Z"
        },
        "id": "2580966c-f719-4548-bf2b-80fe1b7cacd8",
        "tags": []
      },
      "outputs": [],
      "source": [
        "from fastai.vision.all import *\n",
        "from kaggle import api\n",
        "from zipfile import ZipFile\n",
        "import timm"
      ]
    },
    {
      "cell_type": "markdown",
      "id": "8c1d658d-22c4-4d3d-9932-af3152235971",
      "metadata": {
        "id": "8c1d658d-22c4-4d3d-9932-af3152235971"
      },
      "source": [
        "# <font color = 'pickle'> Get Data from kaggle"
      ]
    },
    {
      "cell_type": "code",
      "execution_count": 9,
      "id": "ed7b8577-b99c-43a3-b051-833c8e317131",
      "metadata": {
        "colab": {
          "base_uri": "https://localhost:8080/"
        },
        "execution": {
          "iopub.execute_input": "2022-11-13T14:42:45.666264Z",
          "iopub.status.busy": "2022-11-13T14:42:45.665944Z",
          "iopub.status.idle": "2022-11-13T14:42:46.831695Z",
          "shell.execute_reply": "2022-11-13T14:42:46.831096Z",
          "shell.execute_reply.started": "2022-11-13T14:42:45.666249Z"
        },
        "id": "ed7b8577-b99c-43a3-b051-833c8e317131",
        "outputId": "c9d36481-050e-40c9-be4c-1c7e4ce62194",
        "tags": []
      },
      "outputs": [
        {
          "output_type": "stream",
          "name": "stdout",
          "text": [
            "inclassplantpathologysmallf23.zip: Skipping, found more recently modified local copy (use --force to force download)\n"
          ]
        }
      ],
      "source": [
        "! kaggle competitions download inclassplantpathologysmallf23 -p {archive_folder}\n"
      ]
    },
    {
      "cell_type": "code",
      "execution_count": 10,
      "id": "0b6e00ba-4bb6-4d75-a8ce-3fa5e456867c",
      "metadata": {
        "execution": {
          "iopub.execute_input": "2022-11-13T14:42:51.524989Z",
          "iopub.status.busy": "2022-11-13T14:42:51.524778Z",
          "iopub.status.idle": "2022-11-13T14:42:51.638159Z",
          "shell.execute_reply": "2022-11-13T14:42:51.637574Z",
          "shell.execute_reply.started": "2022-11-13T14:42:51.524975Z"
        },
        "id": "0b6e00ba-4bb6-4d75-a8ce-3fa5e456867c",
        "tags": []
      },
      "outputs": [],
      "source": [
        "file = archive_folder/'inclassplantpathologysmallf23.zip'\n",
        "with ZipFile(file , 'r') as f:\n",
        "    filenames = f.namelist()"
      ]
    },
    {
      "cell_type": "code",
      "execution_count": 11,
      "id": "86008a65-9a0b-46b3-854a-473333448070",
      "metadata": {
        "colab": {
          "base_uri": "https://localhost:8080/"
        },
        "execution": {
          "iopub.execute_input": "2022-11-13T14:42:52.200797Z",
          "iopub.status.busy": "2022-11-13T14:42:52.200587Z",
          "iopub.status.idle": "2022-11-13T14:42:52.225237Z",
          "shell.execute_reply": "2022-11-13T14:42:52.224633Z",
          "shell.execute_reply.started": "2022-11-13T14:42:52.200784Z"
        },
        "id": "86008a65-9a0b-46b3-854a-473333448070",
        "outputId": "8834ae35-f0a4-49f7-d7e5-a4bcedeccd26",
        "tags": []
      },
      "outputs": [
        {
          "output_type": "execute_result",
          "data": {
            "text/plain": [
              "['sample_submission.csv',\n",
              " 'test/test/test_image_1.jpg',\n",
              " 'test/test/test_image_10.jpg',\n",
              " 'test/test/test_image_100.jpg',\n",
              " 'test/test/test_image_1000.jpg',\n",
              " 'test/test/test_image_1001.jpg',\n",
              " 'test/test/test_image_1002.jpg',\n",
              " 'test/test/test_image_1003.jpg',\n",
              " 'test/test/test_image_1004.jpg',\n",
              " 'test/test/test_image_1005.jpg']"
            ]
          },
          "metadata": {},
          "execution_count": 11
        }
      ],
      "source": [
        "filenames[0:10]"
      ]
    },
    {
      "cell_type": "code",
      "execution_count": 12,
      "id": "b0eeae08-a287-4bc5-8630-480ba5ee9187",
      "metadata": {
        "execution": {
          "iopub.execute_input": "2022-11-13T14:42:53.324393Z",
          "iopub.status.busy": "2022-11-13T14:42:53.324202Z",
          "iopub.status.idle": "2022-11-13T14:42:53.347511Z",
          "shell.execute_reply": "2022-11-13T14:42:53.347034Z",
          "shell.execute_reply.started": "2022-11-13T14:42:53.324379Z"
        },
        "id": "b0eeae08-a287-4bc5-8630-480ba5ee9187",
        "tags": []
      },
      "outputs": [],
      "source": [
        "with ZipFile(file ,'r') as f:\n",
        " f.extractall(path = data_folder)"
      ]
    },
    {
      "cell_type": "markdown",
      "id": "1e3b81da-aee5-4c6f-a81d-79ad160d0a91",
      "metadata": {
        "id": "1e3b81da-aee5-4c6f-a81d-79ad160d0a91"
      },
      "source": [
        "# <font color = 'pickle'> Understand Data"
      ]
    },
    {
      "cell_type": "code",
      "execution_count": 13,
      "id": "e765c52f-1064-4a66-a18b-6df8452dc65b",
      "metadata": {
        "execution": {
          "iopub.execute_input": "2022-11-13T14:42:56.099729Z",
          "iopub.status.busy": "2022-11-13T14:42:56.099525Z",
          "iopub.status.idle": "2022-11-13T14:42:56.122699Z",
          "shell.execute_reply": "2022-11-13T14:42:56.122234Z",
          "shell.execute_reply.started": "2022-11-13T14:42:56.099717Z"
        },
        "id": "e765c52f-1064-4a66-a18b-6df8452dc65b",
        "tags": []
      },
      "outputs": [],
      "source": [
        "train_path = data_folder/'train/train'"
      ]
    },
    {
      "cell_type": "code",
      "execution_count": 14,
      "id": "95cec96d-7d59-4618-8ea1-834b88bb6a1b",
      "metadata": {
        "execution": {
          "iopub.execute_input": "2022-11-13T14:42:58.599625Z",
          "iopub.status.busy": "2022-11-13T14:42:58.599454Z",
          "iopub.status.idle": "2022-11-13T14:42:58.677158Z",
          "shell.execute_reply": "2022-11-13T14:42:58.676528Z",
          "shell.execute_reply.started": "2022-11-13T14:42:58.599613Z"
        },
        "id": "95cec96d-7d59-4618-8ea1-834b88bb6a1b",
        "tags": []
      },
      "outputs": [],
      "source": [
        "files = get_image_files(train_path)"
      ]
    },
    {
      "cell_type": "markdown",
      "id": "9994ab57-81b2-4692-aaef-4973a5429378",
      "metadata": {
        "id": "9994ab57-81b2-4692-aaef-4973a5429378"
      },
      "source": [
        "##  <font color = 'pickle'>Look at a sample Image"
      ]
    },
    {
      "cell_type": "code",
      "execution_count": 15,
      "id": "14943372-464f-40d2-a4f8-8df7004b4047",
      "metadata": {
        "colab": {
          "base_uri": "https://localhost:8080/",
          "height": 205
        },
        "execution": {
          "iopub.execute_input": "2022-11-13T14:43:04.816091Z",
          "iopub.status.busy": "2022-11-13T14:43:04.815869Z",
          "iopub.status.idle": "2022-11-13T14:43:04.963000Z",
          "shell.execute_reply": "2022-11-13T14:43:04.962566Z",
          "shell.execute_reply.started": "2022-11-13T14:43:04.816079Z"
        },
        "id": "14943372-464f-40d2-a4f8-8df7004b4047",
        "outputId": "784acfbd-8771-4275-ddbc-f7206e66e99d",
        "tags": []
      },
      "outputs": [
        {
          "output_type": "stream",
          "name": "stdout",
          "text": [
            "(600, 400)\n"
          ]
        },
        {
          "output_type": "execute_result",
          "data": {
            "text/plain": [
              "<PIL.Image.Image image mode=RGB size=256x171>"
            ],
            "image/png": "[encoded data removed]"
          },
          "metadata": {},
          "execution_count": 15
        }
      ],
      "source": [
        "sample_image = PILImage.create(files[0])\n",
        "print(sample_image.size)\n",
        "sample_image.to_thumb(256)"
      ]
    },
    {
      "cell_type": "markdown",
      "id": "7f722d79-6d30-414d-be8f-69d18f9e50c4",
      "metadata": {
        "id": "7f722d79-6d30-414d-be8f-69d18f9e50c4"
      },
      "source": [
        "##  <font color = 'pickle'> Check size of all the images"
      ]
    },
    {
      "cell_type": "code",
      "execution_count": 16,
      "id": "bb6d7b29-68ee-4fb5-86ce-69e1b3a15b59",
      "metadata": {
        "execution": {
          "iopub.execute_input": "2022-11-13T14:43:16.326522Z",
          "iopub.status.busy": "2022-11-13T14:43:16.326318Z",
          "iopub.status.idle": "2022-11-13T14:43:16.348177Z",
          "shell.execute_reply": "2022-11-13T14:43:16.347732Z",
          "shell.execute_reply.started": "2022-11-13T14:43:16.326509Z"
        },
        "id": "bb6d7b29-68ee-4fb5-86ce-69e1b3a15b59",
        "tags": []
      },
      "outputs": [],
      "source": [
        "from fastcore.parallel import *"
      ]
    },
    {
      "cell_type": "code",
      "execution_count": 17,
      "id": "de1a40e4-c93f-4705-9c81-dc960c0cda7d",
      "metadata": {
        "execution": {
          "iopub.execute_input": "2022-11-13T14:43:16.925003Z",
          "iopub.status.busy": "2022-11-13T14:43:16.924782Z",
          "iopub.status.idle": "2022-11-13T14:43:16.947715Z",
          "shell.execute_reply": "2022-11-13T14:43:16.947099Z",
          "shell.execute_reply.started": "2022-11-13T14:43:16.924990Z"
        },
        "id": "de1a40e4-c93f-4705-9c81-dc960c0cda7d",
        "tags": []
      },
      "outputs": [],
      "source": [
        "def get_sizes(image):\n",
        "    return PILImage.create(image).size"
      ]
    },
    {
      "cell_type": "code",
      "execution_count": 18,
      "id": "d60bafeb-88ea-4416-8b6a-5593b1d5aa96",
      "metadata": {
        "colab": {
          "base_uri": "https://localhost:8080/",
          "height": 17
        },
        "execution": {
          "iopub.execute_input": "2022-11-13T14:43:17.576550Z",
          "iopub.status.busy": "2022-11-13T14:43:17.576337Z",
          "iopub.status.idle": "2022-11-13T14:47:24.467807Z",
          "shell.execute_reply": "2022-11-13T14:47:24.467133Z",
          "shell.execute_reply.started": "2022-11-13T14:43:17.576537Z"
        },
        "id": "d60bafeb-88ea-4416-8b6a-5593b1d5aa96",
        "outputId": "d559695a-8f6b-40a0-fbfe-6bb9af52b5fe",
        "tags": []
      },
      "outputs": [
        {
          "output_type": "display_data",
          "data": {
            "text/plain": [
              "<IPython.core.display.HTML object>"
            ],
            "text/html": [
              "\n",
              "<style>\n",
              "    /* Turns off some styling */\n",
              "    progress {\n",
              "        /* gets rid of default border in Firefox and Opera. */\n",
              "        border: none;\n",
              "        /* Needs to be in here for Safari polyfill so background images work as expected. */\n",
              "        background-size: auto;\n",
              "    }\n",
              "    progress:not([value]), progress:not([value])::-webkit-progress-bar {\n",
              "        background: repeating-linear-gradient(45deg, #7e7e7e, #7e7e7e 10px, #5c5c5c 10px, #5c5c5c 20px);\n",
              "    }\n",
              "    .progress-bar-interrupted, .progress-bar-interrupted::-webkit-progress-bar {\n",
              "        background: #F44336;\n",
              "    }\n",
              "</style>\n"
            ]
          },
          "metadata": {}
        },
        {
          "output_type": "display_data",
          "data": {
            "text/plain": [
              "<IPython.core.display.HTML object>"
            ],
            "text/html": []
          },
          "metadata": {}
        }
      ],
      "source": [
        "sizes = parallel(get_sizes, files, progress=True)"
      ]
    },
    {
      "cell_type": "code",
      "execution_count": 19,
      "id": "5545a41c-6ddc-4c3b-a978-71c967703a0d",
      "metadata": {
        "colab": {
          "base_uri": "https://localhost:8080/"
        },
        "execution": {
          "iopub.execute_input": "2022-11-13T14:47:42.238936Z",
          "iopub.status.busy": "2022-11-13T14:47:42.238723Z",
          "iopub.status.idle": "2022-11-13T14:47:42.279016Z",
          "shell.execute_reply": "2022-11-13T14:47:42.278669Z",
          "shell.execute_reply.started": "2022-11-13T14:47:42.238923Z"
        },
        "id": "5545a41c-6ddc-4c3b-a978-71c967703a0d",
        "outputId": "352d036f-bd62-4230-d5f4-2096dd3c942f",
        "tags": []
      },
      "outputs": [
        {
          "output_type": "execute_result",
          "data": {
            "text/plain": [
              "(600, 400)    12409\n",
              "(600, 450)      627\n",
              "(600, 600)        3\n",
              "(450, 600)        2\n",
              "(600, 337)        1\n",
              "dtype: int64"
            ]
          },
          "metadata": {},
          "execution_count": 19
        }
      ],
      "source": [
        "pd.Series(sizes).value_counts()"
      ]
    },
    {
      "cell_type": "markdown",
      "id": "56bd6468-0862-47fd-9dda-57ada9ee0daa",
      "metadata": {
        "id": "56bd6468-0862-47fd-9dda-57ada9ee0daa"
      },
      "source": [
        "# <font color = 'pickle'> Data Loader"
      ]
    },
    {
      "cell_type": "code",
      "execution_count": 20,
      "id": "ed7c33ff-5b10-4724-808f-a7dde355a977",
      "metadata": {
        "execution": {
          "iopub.execute_input": "2022-11-13T14:48:15.534147Z",
          "iopub.status.busy": "2022-11-13T14:48:15.533911Z",
          "iopub.status.idle": "2022-11-13T14:48:15.563615Z",
          "shell.execute_reply": "2022-11-13T14:48:15.563097Z",
          "shell.execute_reply.started": "2022-11-13T14:48:15.534133Z"
        },
        "id": "ed7c33ff-5b10-4724-808f-a7dde355a977",
        "tags": []
      },
      "outputs": [],
      "source": [
        "df = pd.read_csv(data_folder/'train.csv')"
      ]
    },
    {
      "cell_type": "code",
      "execution_count": 21,
      "id": "ab21f204-c455-43b5-a014-0feeec958e1c",
      "metadata": {
        "colab": {
          "base_uri": "https://localhost:8080/",
          "height": 206
        },
        "execution": {
          "iopub.execute_input": "2022-11-13T14:48:16.295140Z",
          "iopub.status.busy": "2022-11-13T14:48:16.294894Z",
          "iopub.status.idle": "2022-11-13T14:48:16.320332Z",
          "shell.execute_reply": "2022-11-13T14:48:16.319858Z",
          "shell.execute_reply.started": "2022-11-13T14:48:16.295126Z"
        },
        "id": "ab21f204-c455-43b5-a014-0feeec958e1c",
        "outputId": "5f9a9ae8-25d8-40d3-99c6-dc318f05b93e",
        "tags": []
      },
      "outputs": [
        {
          "output_type": "execute_result",
          "data": {
            "text/plain": [
              "               image                   labels\n",
              "0  train_image_1.jpg           powdery_mildew\n",
              "1  train_image_2.jpg                     scab\n",
              "2  train_image_3.jpg  scab frog_eye_leaf_spot\n",
              "3  train_image_4.jpg           powdery_mildew\n",
              "4  train_image_5.jpg                  complex"
            ],
            "text/html": [
              "\n",
              "  <div id=\"df-922f95d4-9a01-4fe2-8dfd-06e2ae86158f\" class=\"colab-df-container\">\n",
              "    <div>\n",
              "<style scoped>\n",
              "    .dataframe tbody tr th:only-of-type {\n",
              "        vertical-align: middle;\n",
              "    }\n",
              "\n",
              "    .dataframe tbody tr th {\n",
              "        vertical-align: top;\n",
              "    }\n",
              "\n",
              "    .dataframe thead th {\n",
              "        text-align: right;\n",
              "    }\n",
              "</style>\n",
              "<table border=\"1\" class=\"dataframe\">\n",
              "  <thead>\n",
              "    <tr style=\"text-align: right;\">\n",
              "      <th></th>\n",
              "      <th>image</th>\n",
              "      <th>labels</th>\n",
              "    </tr>\n",
              "  </thead>\n",
              "  <tbody>\n",
              "    <tr>\n",
              "      <th>0</th>\n",
              "      <td>train_image_1.jpg</td>\n",
              "      <td>powdery_mildew</td>\n",
              "    </tr>\n",
              "    <tr>\n",
              "      <th>1</th>\n",
              "      <td>train_image_2.jpg</td>\n",
              "      <td>scab</td>\n",
              "    </tr>\n",
              "    <tr>\n",
              "      <th>2</th>\n",
              "      <td>train_image_3.jpg</td>\n",
              "      <td>scab frog_eye_leaf_spot</td>\n",
              "    </tr>\n",
              "    <tr>\n",
              "      <th>3</th>\n",
              "      <td>train_image_4.jpg</td>\n",
              "      <td>powdery_mildew</td>\n",
              "    </tr>\n",
              "    <tr>\n",
              "      <th>4</th>\n",
              "      <td>train_image_5.jpg</td>\n",
              "      <td>complex</td>\n",
              "    </tr>\n",
              "  </tbody>\n",
              "</table>\n",
              "</div>\n",
              "    <div class=\"colab-df-buttons\">\n",
              "\n",
              "  <div class=\"colab-df-container\">\n",
              "    <button class=\"colab-df-convert\" onclick=\"convertToInteractive('df-922f95d4-9a01-4fe2-8dfd-06e2ae86158f')\"\n",
              "            title=\"Convert this dataframe to an interactive table.\"\n",
              "            style=\"display:none;\">\n",
              "\n",
              "  <svg xmlns=\"http://www.w3.org/2000/svg\" height=\"24px\" viewBox=\"0 -960 960 960\">\n",
              "    <path d=\"M120-120v-720h720v720H120Zm60-500h600v-160H180v160Zm220 220h160v-160H400v160Zm0 220h160v-160H400v160ZM180-400h160v-160H180v160Zm440 0h160v-160H620v160ZM180-180h160v-160H180v160Zm440 0h160v-160H620v160Z\"/>\n",
              "  </svg>\n",
              "    </button>\n",
              "\n",
              "  <style>\n",
              "    .colab-df-container {\n",
              "      display:flex;\n",
              "      gap: 12px;\n",
              "    }\n",
              "\n",
              "    .colab-df-convert {\n",
              "      background-color: #E8F0FE;\n",
              "      border: none;\n",
              "      border-radius: 50%;\n",
              "      cursor: pointer;\n",
              "      display: none;\n",
              "      fill: #1967D2;\n",
              "      height: 32px;\n",
              "      padding: 0 0 0 0;\n",
              "      width: 32px;\n",
              "    }\n",
              "\n",
              "    .colab-df-convert:hover {\n",
              "      background-color: #E2EBFA;\n",
              "      box-shadow: 0px 1px 2px rgba(60, 64, 67, 0.3), 0px 1px 3px 1px rgba(60, 64, 67, 0.15);\n",
              "      fill: #174EA6;\n",
              "    }\n",
              "\n",
              "    .colab-df-buttons div {\n",
              "      margin-bottom: 4px;\n",
              "    }\n",
              "\n",
              "    [theme=dark] .colab-df-convert {\n",
              "      background-color: #3B4455;\n",
              "      fill: #D2E3FC;\n",
              "    }\n",
              "\n",
              "    [theme=dark] .colab-df-convert:hover {\n",
              "      background-color: #434B5C;\n",
              "      box-shadow: 0px 1px 3px 1px rgba(0, 0, 0, 0.15);\n",
              "      filter: drop-shadow(0px 1px 2px rgba(0, 0, 0, 0.3));\n",
              "      fill: #FFFFFF;\n",
              "    }\n",
              "  </style>\n",
              "\n",
              "    <script>\n",
              "      const buttonEl =\n",
              "        document.querySelector('#df-922f95d4-9a01-4fe2-8dfd-06e2ae86158f button.colab-df-convert');\n",
              "      buttonEl.style.display =\n",
              "        google.colab.kernel.accessAllowed ? 'block' : 'none';\n",
              "\n",
              "      async function convertToInteractive(key) {\n",
              "        const element = document.querySelector('#df-922f95d4-9a01-4fe2-8dfd-06e2ae86158f');\n",
              "        const dataTable =\n",
              "          await google.colab.kernel.invokeFunction('convertToInteractive',\n",
              "                                                    [key], {});\n",
              "        if (!dataTable) return;\n",
              "\n",
              "        const docLinkHtml = 'Like what you see? Visit the ' +\n",
              "          '<a target=\"_blank\" href=https://colab.research.google.com/notebooks/data_table.ipynb>data table notebook</a>'\n",
              "          + ' to learn more about interactive tables.';\n",
              "        element.innerHTML = '';\n",
              "        dataTable['output_type'] = 'display_data';\n",
              "        await google.colab.output.renderOutput(dataTable, element);\n",
              "        const docLink = document.createElement('div');\n",
              "        docLink.innerHTML = docLinkHtml;\n",
              "        element.appendChild(docLink);\n",
              "      }\n",
              "    </script>\n",
              "  </div>\n",
              "\n",
              "\n",
              "<div id=\"df-736d2dc1-4321-4370-9f32-8f53e9523d51\">\n",
              "  <button class=\"colab-df-quickchart\" onclick=\"quickchart('df-736d2dc1-4321-4370-9f32-8f53e9523d51')\"\n",
              "            title=\"Suggest charts\"\n",
              "            style=\"display:none;\">\n",
              "\n",
              "<svg xmlns=\"http://www.w3.org/2000/svg\" height=\"24px\"viewBox=\"0 0 24 24\"\n",
              "     width=\"24px\">\n",
              "    <g>\n",
              "        <path d=\"M19 3H5c-1.1 0-2 .9-2 2v14c0 1.1.9 2 2 2h14c1.1 0 2-.9 2-2V5c0-1.1-.9-2-2-2zM9 17H7v-7h2v7zm4 0h-2V7h2v10zm4 0h-2v-4h2v4z\"/>\n",
              "    </g>\n",
              "</svg>\n",
              "  </button>\n",
              "\n",
              "<style>\n",
              "  .colab-df-quickchart {\n",
              "      --bg-color: #E8F0FE;\n",
              "      --fill-color: #1967D2;\n",
              "      --hover-bg-color: #E2EBFA;\n",
              "      --hover-fill-color: #174EA6;\n",
              "      --disabled-fill-color: #AAA;\n",
              "      --disabled-bg-color: #DDD;\n",
              "  }\n",
              "\n",
              "  [theme=dark] .colab-df-quickchart {\n",
              "      --bg-color: #3B4455;\n",
              "      --fill-color: #D2E3FC;\n",
              "      --hover-bg-color: #434B5C;\n",
              "      --hover-fill-color: #FFFFFF;\n",
              "      --disabled-bg-color: #3B4455;\n",
              "      --disabled-fill-color: #666;\n",
              "  }\n",
              "\n",
              "  .colab-df-quickchart {\n",
              "    background-color: var(--bg-color);\n",
              "    border: none;\n",
              "    border-radius: 50%;\n",
              "    cursor: pointer;\n",
              "    display: none;\n",
              "    fill: var(--fill-color);\n",
              "    height: 32px;\n",
              "    padding: 0;\n",
              "    width: 32px;\n",
              "  }\n",
              "\n",
              "  .colab-df-quickchart:hover {\n",
              "    background-color: var(--hover-bg-color);\n",
              "    box-shadow: 0 1px 2px rgba(60, 64, 67, 0.3), 0 1px 3px 1px rgba(60, 64, 67, 0.15);\n",
              "    fill: var(--button-hover-fill-color);\n",
              "  }\n",
              "\n",
              "  .colab-df-quickchart-complete:disabled,\n",
              "  .colab-df-quickchart-complete:disabled:hover {\n",
              "    background-color: var(--disabled-bg-color);\n",
              "    fill: var(--disabled-fill-color);\n",
              "    box-shadow: none;\n",
              "  }\n",
              "\n",
              "  .colab-df-spinner {\n",
              "    border: 2px solid var(--fill-color);\n",
              "    border-color: transparent;\n",
              "    border-bottom-color: var(--fill-color);\n",
              "    animation:\n",
              "      spin 1s steps(1) infinite;\n",
              "  }\n",
              "\n",
              "  @keyframes spin {\n",
              "    0% {\n",
              "      border-color: transparent;\n",
              "      border-bottom-color: var(--fill-color);\n",
              "      border-left-color: var(--fill-color);\n",
              "    }\n",
              "    20% {\n",
              "      border-color: transparent;\n",
              "      border-left-color: var(--fill-color);\n",
              "      border-top-color: var(--fill-color);\n",
              "    }\n",
              "    30% {\n",
              "      border-color: transparent;\n",
              "      border-left-color: var(--fill-color);\n",
              "      border-top-color: var(--fill-color);\n",
              "      border-right-color: var(--fill-color);\n",
              "    }\n",
              "    40% {\n",
              "      border-color: transparent;\n",
              "      border-right-color: var(--fill-color);\n",
              "      border-top-color: var(--fill-color);\n",
              "    }\n",
              "    60% {\n",
              "      border-color: transparent;\n",
              "      border-right-color: var(--fill-color);\n",
              "    }\n",
              "    80% {\n",
              "      border-color: transparent;\n",
              "      border-right-color: var(--fill-color);\n",
              "      border-bottom-color: var(--fill-color);\n",
              "    }\n",
              "    90% {\n",
              "      border-color: transparent;\n",
              "      border-bottom-color: var(--fill-color);\n",
              "    }\n",
              "  }\n",
              "</style>\n",
              "\n",
              "  <script>\n",
              "    async function quickchart(key) {\n",
              "      const quickchartButtonEl =\n",
              "        document.querySelector('#' + key + ' button');\n",
              "      quickchartButtonEl.disabled = true;  // To prevent multiple clicks.\n",
              "      quickchartButtonEl.classList.add('colab-df-spinner');\n",
              "      try {\n",
              "        const charts = await google.colab.kernel.invokeFunction(\n",
              "            'suggestCharts', [key], {});\n",
              "      } catch (error) {\n",
              "        console.error('Error during call to suggestCharts:', error);\n",
              "      }\n",
              "      quickchartButtonEl.classList.remove('colab-df-spinner');\n",
              "      quickchartButtonEl.classList.add('colab-df-quickchart-complete');\n",
              "    }\n",
              "    (() => {\n",
              "      let quickchartButtonEl =\n",
              "        document.querySelector('#df-736d2dc1-4321-4370-9f32-8f53e9523d51 button');\n",
              "      quickchartButtonEl.style.display =\n",
              "        google.colab.kernel.accessAllowed ? 'block' : 'none';\n",
              "    })();\n",
              "  </script>\n",
              "</div>\n",
              "\n",
              "    </div>\n",
              "  </div>\n"
            ]
          },
          "metadata": {},
          "execution_count": 21
        }
      ],
      "source": [
        "df.head()"
      ]
    },
    {
      "cell_type": "code",
      "execution_count": 22,
      "id": "e0dc62fd-f099-46c4-a93e-a8d13e3f565e",
      "metadata": {
        "colab": {
          "base_uri": "https://localhost:8080/"
        },
        "execution": {
          "iopub.execute_input": "2022-11-13T14:48:20.337870Z",
          "iopub.status.busy": "2022-11-13T14:48:20.337631Z",
          "iopub.status.idle": "2022-11-13T14:48:20.368850Z",
          "shell.execute_reply": "2022-11-13T14:48:20.368361Z",
          "shell.execute_reply.started": "2022-11-13T14:48:20.337857Z"
        },
        "id": "e0dc62fd-f099-46c4-a93e-a8d13e3f565e",
        "outputId": "3b7238dd-115e-47c2-e9e3-ffb60f7a3622",
        "tags": []
      },
      "outputs": [
        {
          "output_type": "stream",
          "name": "stdout",
          "text": [
            "<class 'pandas.core.frame.DataFrame'>\n",
            "RangeIndex: 13042 entries, 0 to 13041\n",
            "Data columns (total 2 columns):\n",
            " #   Column  Non-Null Count  Dtype \n",
            "---  ------  --------------  ----- \n",
            " 0   image   13042 non-null  object\n",
            " 1   labels  13042 non-null  object\n",
            "dtypes: object(2)\n",
            "memory usage: 203.9+ KB\n"
          ]
        }
      ],
      "source": [
        "df.info()"
      ]
    },
    {
      "cell_type": "code",
      "execution_count": 23,
      "id": "e026e3ea-9f4b-47b5-976f-a25dc5ddb68b",
      "metadata": {
        "colab": {
          "base_uri": "https://localhost:8080/",
          "height": 363
        },
        "execution": {
          "iopub.execute_input": "2022-11-13T14:48:24.572572Z",
          "iopub.status.busy": "2022-11-13T14:48:24.572330Z",
          "iopub.status.idle": "2022-11-13T14:48:24.596297Z",
          "shell.execute_reply": "2022-11-13T14:48:24.595785Z",
          "shell.execute_reply.started": "2022-11-13T14:48:24.572558Z"
        },
        "id": "e026e3ea-9f4b-47b5-976f-a25dc5ddb68b",
        "outputId": "e9ff4ee9-5c0b-4b8f-f91f-4bf7433dc48b",
        "tags": []
      },
      "outputs": [
        {
          "output_type": "execute_result",
          "data": {
            "text/plain": [
              "                image                   labels\n",
              "0   train_image_1.jpg           powdery_mildew\n",
              "1   train_image_2.jpg                     scab\n",
              "2   train_image_3.jpg  scab frog_eye_leaf_spot\n",
              "3   train_image_4.jpg           powdery_mildew\n",
              "4   train_image_5.jpg                  complex\n",
              "5   train_image_6.jpg                     rust\n",
              "6   train_image_7.jpg  scab frog_eye_leaf_spot\n",
              "7   train_image_8.jpg  scab frog_eye_leaf_spot\n",
              "8   train_image_9.jpg       frog_eye_leaf_spot\n",
              "9  train_image_10.jpg       frog_eye_leaf_spot"
            ],
            "text/html": [
              "\n",
              "  <div id=\"df-78ba82fa-09d1-4b49-9bc7-1f1f2fc4919a\" class=\"colab-df-container\">\n",
              "    <div>\n",
              "<style scoped>\n",
              "    .dataframe tbody tr th:only-of-type {\n",
              "        vertical-align: middle;\n",
              "    }\n",
              "\n",
              "    .dataframe tbody tr th {\n",
              "        vertical-align: top;\n",
              "    }\n",
              "\n",
              "    .dataframe thead th {\n",
              "        text-align: right;\n",
              "    }\n",
              "</style>\n",
              "<table border=\"1\" class=\"dataframe\">\n",
              "  <thead>\n",
              "    <tr style=\"text-align: right;\">\n",
              "      <th></th>\n",
              "      <th>image</th>\n",
              "      <th>labels</th>\n",
              "    </tr>\n",
              "  </thead>\n",
              "  <tbody>\n",
              "    <tr>\n",
              "      <th>0</th>\n",
              "      <td>train_image_1.jpg</td>\n",
              "      <td>powdery_mildew</td>\n",
              "    </tr>\n",
              "    <tr>\n",
              "      <th>1</th>\n",
              "      <td>train_image_2.jpg</td>\n",
              "      <td>scab</td>\n",
              "    </tr>\n",
              "    <tr>\n",
              "      <th>2</th>\n",
              "      <td>train_image_3.jpg</td>\n",
              "      <td>scab frog_eye_leaf_spot</td>\n",
              "    </tr>\n",
              "    <tr>\n",
              "      <th>3</th>\n",
              "      <td>train_image_4.jpg</td>\n",
              "      <td>powdery_mildew</td>\n",
              "    </tr>\n",
              "    <tr>\n",
              "      <th>4</th>\n",
              "      <td>train_image_5.jpg</td>\n",
              "      <td>complex</td>\n",
              "    </tr>\n",
              "    <tr>\n",
              "      <th>5</th>\n",
              "      <td>train_image_6.jpg</td>\n",
              "      <td>rust</td>\n",
              "    </tr>\n",
              "    <tr>\n",
              "      <th>6</th>\n",
              "      <td>train_image_7.jpg</td>\n",
              "      <td>scab frog_eye_leaf_spot</td>\n",
              "    </tr>\n",
              "    <tr>\n",
              "      <th>7</th>\n",
              "      <td>train_image_8.jpg</td>\n",
              "      <td>scab frog_eye_leaf_spot</td>\n",
              "    </tr>\n",
              "    <tr>\n",
              "      <th>8</th>\n",
              "      <td>train_image_9.jpg</td>\n",
              "      <td>frog_eye_leaf_spot</td>\n",
              "    </tr>\n",
              "    <tr>\n",
              "      <th>9</th>\n",
              "      <td>train_image_10.jpg</td>\n",
              "      <td>frog_eye_leaf_spot</td>\n",
              "    </tr>\n",
              "  </tbody>\n",
              "</table>\n",
              "</div>\n",
              "    <div class=\"colab-df-buttons\">\n",
              "\n",
              "  <div class=\"colab-df-container\">\n",
              "    <button class=\"colab-df-convert\" onclick=\"convertToInteractive('df-78ba82fa-09d1-4b49-9bc7-1f1f2fc4919a')\"\n",
              "            title=\"Convert this dataframe to an interactive table.\"\n",
              "            style=\"display:none;\">\n",
              "\n",
              "  <svg xmlns=\"http://www.w3.org/2000/svg\" height=\"24px\" viewBox=\"0 -960 960 960\">\n",
              "    <path d=\"M120-120v-720h720v720H120Zm60-500h600v-160H180v160Zm220 220h160v-160H400v160Zm0 220h160v-160H400v160ZM180-400h160v-160H180v160Zm440 0h160v-160H620v160ZM180-180h160v-160H180v160Zm440 0h160v-160H620v160Z\"/>\n",
              "  </svg>\n",
              "    </button>\n",
              "\n",
              "  <style>\n",
              "    .colab-df-container {\n",
              "      display:flex;\n",
              "      gap: 12px;\n",
              "    }\n",
              "\n",
              "    .colab-df-convert {\n",
              "      background-color: #E8F0FE;\n",
              "      border: none;\n",
              "      border-radius: 50%;\n",
              "      cursor: pointer;\n",
              "      display: none;\n",
              "      fill: #1967D2;\n",
              "      height: 32px;\n",
              "      padding: 0 0 0 0;\n",
              "      width: 32px;\n",
              "    }\n",
              "\n",
              "    .colab-df-convert:hover {\n",
              "      background-color: #E2EBFA;\n",
              "      box-shadow: 0px 1px 2px rgba(60, 64, 67, 0.3), 0px 1px 3px 1px rgba(60, 64, 67, 0.15);\n",
              "      fill: #174EA6;\n",
              "    }\n",
              "\n",
              "    .colab-df-buttons div {\n",
              "      margin-bottom: 4px;\n",
              "    }\n",
              "\n",
              "    [theme=dark] .colab-df-convert {\n",
              "      background-color: #3B4455;\n",
              "      fill: #D2E3FC;\n",
              "    }\n",
              "\n",
              "    [theme=dark] .colab-df-convert:hover {\n",
              "      background-color: #434B5C;\n",
              "      box-shadow: 0px 1px 3px 1px rgba(0, 0, 0, 0.15);\n",
              "      filter: drop-shadow(0px 1px 2px rgba(0, 0, 0, 0.3));\n",
              "      fill: #FFFFFF;\n",
              "    }\n",
              "  </style>\n",
              "\n",
              "    <script>\n",
              "      const buttonEl =\n",
              "        document.querySelector('#df-78ba82fa-09d1-4b49-9bc7-1f1f2fc4919a button.colab-df-convert');\n",
              "      buttonEl.style.display =\n",
              "        google.colab.kernel.accessAllowed ? 'block' : 'none';\n",
              "\n",
              "      async function convertToInteractive(key) {\n",
              "        const element = document.querySelector('#df-78ba82fa-09d1-4b49-9bc7-1f1f2fc4919a');\n",
              "        const dataTable =\n",
              "          await google.colab.kernel.invokeFunction('convertToInteractive',\n",
              "                                                    [key], {});\n",
              "        if (!dataTable) return;\n",
              "\n",
              "        const docLinkHtml = 'Like what you see? Visit the ' +\n",
              "          '<a target=\"_blank\" href=https://colab.research.google.com/notebooks/data_table.ipynb>data table notebook</a>'\n",
              "          + ' to learn more about interactive tables.';\n",
              "        element.innerHTML = '';\n",
              "        dataTable['output_type'] = 'display_data';\n",
              "        await google.colab.output.renderOutput(dataTable, element);\n",
              "        const docLink = document.createElement('div');\n",
              "        docLink.innerHTML = docLinkHtml;\n",
              "        element.appendChild(docLink);\n",
              "      }\n",
              "    </script>\n",
              "  </div>\n",
              "\n",
              "\n",
              "<div id=\"df-ac5032d5-1553-4ab8-8542-82717ea6fb4e\">\n",
              "  <button class=\"colab-df-quickchart\" onclick=\"quickchart('df-ac5032d5-1553-4ab8-8542-82717ea6fb4e')\"\n",
              "            title=\"Suggest charts\"\n",
              "            style=\"display:none;\">\n",
              "\n",
              "<svg xmlns=\"http://www.w3.org/2000/svg\" height=\"24px\"viewBox=\"0 0 24 24\"\n",
              "     width=\"24px\">\n",
              "    <g>\n",
              "        <path d=\"M19 3H5c-1.1 0-2 .9-2 2v14c0 1.1.9 2 2 2h14c1.1 0 2-.9 2-2V5c0-1.1-.9-2-2-2zM9 17H7v-7h2v7zm4 0h-2V7h2v10zm4 0h-2v-4h2v4z\"/>\n",
              "    </g>\n",
              "</svg>\n",
              "  </button>\n",
              "\n",
              "<style>\n",
              "  .colab-df-quickchart {\n",
              "      --bg-color: #E8F0FE;\n",
              "      --fill-color: #1967D2;\n",
              "      --hover-bg-color: #E2EBFA;\n",
              "      --hover-fill-color: #174EA6;\n",
              "      --disabled-fill-color: #AAA;\n",
              "      --disabled-bg-color: #DDD;\n",
              "  }\n",
              "\n",
              "  [theme=dark] .colab-df-quickchart {\n",
              "      --bg-color: #3B4455;\n",
              "      --fill-color: #D2E3FC;\n",
              "      --hover-bg-color: #434B5C;\n",
              "      --hover-fill-color: #FFFFFF;\n",
              "      --disabled-bg-color: #3B4455;\n",
              "      --disabled-fill-color: #666;\n",
              "  }\n",
              "\n",
              "  .colab-df-quickchart {\n",
              "    background-color: var(--bg-color);\n",
              "    border: none;\n",
              "    border-radius: 50%;\n",
              "    cursor: pointer;\n",
              "    display: none;\n",
              "    fill: var(--fill-color);\n",
              "    height: 32px;\n",
              "    padding: 0;\n",
              "    width: 32px;\n",
              "  }\n",
              "\n",
              "  .colab-df-quickchart:hover {\n",
              "    background-color: var(--hover-bg-color);\n",
              "    box-shadow: 0 1px 2px rgba(60, 64, 67, 0.3), 0 1px 3px 1px rgba(60, 64, 67, 0.15);\n",
              "    fill: var(--button-hover-fill-color);\n",
              "  }\n",
              "\n",
              "  .colab-df-quickchart-complete:disabled,\n",
              "  .colab-df-quickchart-complete:disabled:hover {\n",
              "    background-color: var(--disabled-bg-color);\n",
              "    fill: var(--disabled-fill-color);\n",
              "    box-shadow: none;\n",
              "  }\n",
              "\n",
              "  .colab-df-spinner {\n",
              "    border: 2px solid var(--fill-color);\n",
              "    border-color: transparent;\n",
              "    border-bottom-color: var(--fill-color);\n",
              "    animation:\n",
              "      spin 1s steps(1) infinite;\n",
              "  }\n",
              "\n",
              "  @keyframes spin {\n",
              "    0% {\n",
              "      border-color: transparent;\n",
              "      border-bottom-color: var(--fill-color);\n",
              "      border-left-color: var(--fill-color);\n",
              "    }\n",
              "    20% {\n",
              "      border-color: transparent;\n",
              "      border-left-color: var(--fill-color);\n",
              "      border-top-color: var(--fill-color);\n",
              "    }\n",
              "    30% {\n",
              "      border-color: transparent;\n",
              "      border-left-color: var(--fill-color);\n",
              "      border-top-color: var(--fill-color);\n",
              "      border-right-color: var(--fill-color);\n",
              "    }\n",
              "    40% {\n",
              "      border-color: transparent;\n",
              "      border-right-color: var(--fill-color);\n",
              "      border-top-color: var(--fill-color);\n",
              "    }\n",
              "    60% {\n",
              "      border-color: transparent;\n",
              "      border-right-color: var(--fill-color);\n",
              "    }\n",
              "    80% {\n",
              "      border-color: transparent;\n",
              "      border-right-color: var(--fill-color);\n",
              "      border-bottom-color: var(--fill-color);\n",
              "    }\n",
              "    90% {\n",
              "      border-color: transparent;\n",
              "      border-bottom-color: var(--fill-color);\n",
              "    }\n",
              "  }\n",
              "</style>\n",
              "\n",
              "  <script>\n",
              "    async function quickchart(key) {\n",
              "      const quickchartButtonEl =\n",
              "        document.querySelector('#' + key + ' button');\n",
              "      quickchartButtonEl.disabled = true;  // To prevent multiple clicks.\n",
              "      quickchartButtonEl.classList.add('colab-df-spinner');\n",
              "      try {\n",
              "        const charts = await google.colab.kernel.invokeFunction(\n",
              "            'suggestCharts', [key], {});\n",
              "      } catch (error) {\n",
              "        console.error('Error during call to suggestCharts:', error);\n",
              "      }\n",
              "      quickchartButtonEl.classList.remove('colab-df-spinner');\n",
              "      quickchartButtonEl.classList.add('colab-df-quickchart-complete');\n",
              "    }\n",
              "    (() => {\n",
              "      let quickchartButtonEl =\n",
              "        document.querySelector('#df-ac5032d5-1553-4ab8-8542-82717ea6fb4e button');\n",
              "      quickchartButtonEl.style.display =\n",
              "        google.colab.kernel.accessAllowed ? 'block' : 'none';\n",
              "    })();\n",
              "  </script>\n",
              "</div>\n",
              "\n",
              "    </div>\n",
              "  </div>\n"
            ]
          },
          "metadata": {},
          "execution_count": 23
        }
      ],
      "source": [
        "df.iloc[0:10, ]"
      ]
    },
    {
      "cell_type": "code",
      "execution_count": 24,
      "id": "e8b9f215-82d1-4309-b406-afee5ec4c8f6",
      "metadata": {
        "colab": {
          "base_uri": "https://localhost:8080/"
        },
        "execution": {
          "iopub.execute_input": "2022-11-13T14:48:28.697406Z",
          "iopub.status.busy": "2022-11-13T14:48:28.697103Z",
          "iopub.status.idle": "2022-11-13T14:48:28.740016Z",
          "shell.execute_reply": "2022-11-13T14:48:28.739571Z",
          "shell.execute_reply.started": "2022-11-13T14:48:28.697390Z"
        },
        "id": "e8b9f215-82d1-4309-b406-afee5ec4c8f6",
        "outputId": "d6bc5fdd-b4bf-4cea-ff20-7382a622adca",
        "tags": []
      },
      "outputs": [
        {
          "output_type": "execute_result",
          "data": {
            "text/plain": [
              "(Path('/content/inclass_kaggle_data/train/train/train_image_10535.jpg'),\n",
              " ['rust', 'complex'])"
            ]
          },
          "metadata": {},
          "execution_count": 24
        }
      ],
      "source": [
        "# def get_x(df): return str(small_train_images) + '/' + (df['image'])\n",
        "def get_x(df):\n",
        "  return data_folder/'train/train'/df['image']\n",
        "def get_y(df):\n",
        "  return df['labels'].split(' ')\n",
        "dblock = DataBlock(get_x= get_x,\n",
        "                   get_y = get_y,\n",
        "                   splitter = RandomSplitter(seed = 42))\n",
        "dsets = dblock.datasets(df)\n",
        "dsets.train[15]"
      ]
    },
    {
      "cell_type": "code",
      "source": [
        "dblock = DataBlock(blocks= (ImageBlock, MultiCategoryBlock),\n",
        "                            get_x= get_x,\n",
        "                            get_y = get_y,\n",
        "                            splitter = RandomSplitter(seed = 42))\n",
        "dsets = dblock.datasets(df)\n",
        "dsets.train[15]"
      ],
      "metadata": {
        "colab": {
          "base_uri": "https://localhost:8080/"
        },
        "id": "fCwM0pNAISmg",
        "outputId": "d9712e55-519b-4300-9df3-5ff1a9d2b143"
      },
      "id": "fCwM0pNAISmg",
      "execution_count": 25,
      "outputs": [
        {
          "output_type": "execute_result",
          "data": {
            "text/plain": [
              "(PILImage mode=RGB size=600x400, TensorMultiCategory([1., 0., 0., 0., 1., 0.]))"
            ]
          },
          "metadata": {},
          "execution_count": 25
        }
      ]
    },
    {
      "cell_type": "code",
      "execution_count": 26,
      "id": "21d2d0af-fdd6-49de-bcfd-d83d5c506e3d",
      "metadata": {
        "colab": {
          "base_uri": "https://localhost:8080/"
        },
        "execution": {
          "iopub.execute_input": "2022-11-13T14:48:30.943241Z",
          "iopub.status.busy": "2022-11-13T14:48:30.943057Z",
          "iopub.status.idle": "2022-11-13T14:48:30.972135Z",
          "shell.execute_reply": "2022-11-13T14:48:30.971745Z",
          "shell.execute_reply.started": "2022-11-13T14:48:30.943228Z"
        },
        "id": "21d2d0af-fdd6-49de-bcfd-d83d5c506e3d",
        "outputId": "9d0a023f-a45c-48eb-8713-e8ee63ca6eb5",
        "tags": []
      },
      "outputs": [
        {
          "output_type": "execute_result",
          "data": {
            "text/plain": [
              "['complex', 'frog_eye_leaf_spot', 'healthy', 'powdery_mildew', 'rust', 'scab']"
            ]
          },
          "metadata": {},
          "execution_count": 26
        }
      ],
      "source": [
        "dsets.train.vocab"
      ]
    },
    {
      "cell_type": "code",
      "execution_count": 27,
      "id": "4e409c8e-6412-4854-96af-3a9abef65fe5",
      "metadata": {
        "execution": {
          "iopub.execute_input": "2022-11-13T14:48:34.069066Z",
          "iopub.status.busy": "2022-11-13T14:48:34.068849Z",
          "iopub.status.idle": "2022-11-13T14:48:34.178096Z",
          "shell.execute_reply": "2022-11-13T14:48:34.177609Z",
          "shell.execute_reply.started": "2022-11-13T14:48:34.069052Z"
        },
        "id": "4e409c8e-6412-4854-96af-3a9abef65fe5",
        "tags": []
      },
      "outputs": [],
      "source": [
        "idxs = torch.where(dsets.train[15][1] == 1.)[0]"
      ]
    },
    {
      "cell_type": "code",
      "execution_count": 28,
      "id": "4004901c-6218-4849-821d-a00d8431889d",
      "metadata": {
        "colab": {
          "base_uri": "https://localhost:8080/"
        },
        "execution": {
          "iopub.execute_input": "2022-11-13T14:48:34.533419Z",
          "iopub.status.busy": "2022-11-13T14:48:34.533015Z",
          "iopub.status.idle": "2022-11-13T14:48:34.565804Z",
          "shell.execute_reply": "2022-11-13T14:48:34.565436Z",
          "shell.execute_reply.started": "2022-11-13T14:48:34.533403Z"
        },
        "id": "4004901c-6218-4849-821d-a00d8431889d",
        "outputId": "5b0b1e41-a164-4743-a43e-6666965011ad",
        "tags": []
      },
      "outputs": [
        {
          "output_type": "execute_result",
          "data": {
            "text/plain": [
              "(#2) ['complex','rust']"
            ]
          },
          "metadata": {},
          "execution_count": 28
        }
      ],
      "source": [
        "dsets.train.vocab[idxs]"
      ]
    },
    {
      "cell_type": "code",
      "execution_count": 29,
      "id": "6cbd76ec-6109-4234-ad74-cc6b0d63536c",
      "metadata": {
        "colab": {
          "base_uri": "https://localhost:8080/"
        },
        "execution": {
          "iopub.execute_input": "2022-11-13T14:48:35.135154Z",
          "iopub.status.busy": "2022-11-13T14:48:35.134927Z",
          "iopub.status.idle": "2022-11-13T14:48:36.405006Z",
          "shell.execute_reply": "2022-11-13T14:48:36.404449Z",
          "shell.execute_reply.started": "2022-11-13T14:48:35.135140Z"
        },
        "id": "6cbd76ec-6109-4234-ad74-cc6b0d63536c",
        "outputId": "d4c57541-6593-4048-f35b-cd8efaaea582",
        "tags": []
      },
      "outputs": [
        {
          "output_type": "execute_result",
          "data": {
            "text/plain": [
              "(PILImage mode=RGB size=600x400, TensorMultiCategory([0., 0., 0., 0., 0., 1.]))"
            ]
          },
          "metadata": {},
          "execution_count": 29
        }
      ],
      "source": [
        "dblock = DataBlock(blocks= (ImageBlock, MultiCategoryBlock),\n",
        "                  get_x= get_x,\n",
        "                  get_y = get_y,\n",
        "                  splitter = RandomSplitter(seed = 42),\n",
        "                  item_tfms= Resize(400, method = 'squish'),\n",
        "                  batch_tfms= aug_transforms(size = 128, min_scale = 0.75))\n",
        "dsets = dblock.datasets(df)\n",
        "dsets.train[3]"
      ]
    },
    {
      "cell_type": "code",
      "source": [
        "import os\n",
        "os.cpu_count()"
      ],
      "metadata": {
        "colab": {
          "base_uri": "https://localhost:8080/"
        },
        "id": "ThlKYnee3P14",
        "outputId": "110e8bea-159b-4203-edb5-bee807793a92"
      },
      "id": "ThlKYnee3P14",
      "execution_count": 30,
      "outputs": [
        {
          "output_type": "execute_result",
          "data": {
            "text/plain": [
              "2"
            ]
          },
          "metadata": {},
          "execution_count": 30
        }
      ]
    },
    {
      "cell_type": "code",
      "execution_count": 31,
      "id": "e2328ed7-3552-4023-a46f-4a77974af914",
      "metadata": {
        "execution": {
          "iopub.execute_input": "2022-11-13T14:48:36.406078Z",
          "iopub.status.busy": "2022-11-13T14:48:36.405917Z",
          "iopub.status.idle": "2022-11-13T14:48:39.954701Z",
          "shell.execute_reply": "2022-11-13T14:48:39.954081Z",
          "shell.execute_reply.started": "2022-11-13T14:48:36.406066Z"
        },
        "id": "e2328ed7-3552-4023-a46f-4a77974af914",
        "tags": []
      },
      "outputs": [],
      "source": [
        "dls = dblock.dataloaders(df, bs = 32, num_workers =16)"
      ]
    },
    {
      "cell_type": "code",
      "execution_count": 32,
      "id": "55f11bf1-6f85-4284-8fd5-7cc8017040e5",
      "metadata": {
        "colab": {
          "base_uri": "https://localhost:8080/",
          "height": 264
        },
        "execution": {
          "iopub.execute_input": "2022-11-13T14:48:40.009266Z",
          "iopub.status.busy": "2022-11-13T14:48:40.009059Z",
          "iopub.status.idle": "2022-11-13T14:48:49.879815Z",
          "shell.execute_reply": "2022-11-13T14:48:49.879398Z",
          "shell.execute_reply.started": "2022-11-13T14:48:40.009238Z"
        },
        "id": "55f11bf1-6f85-4284-8fd5-7cc8017040e5",
        "outputId": "880767d6-da8b-4ae1-a524-c6c926a6b9b6",
        "tags": []
      },
      "outputs": [
        {
          "output_type": "display_data",
          "data": {
            "text/plain": [
              "<Figure size 900x300 with 3 Axes>"
            ],
            "image/png": "[encoded data removed]"
          },
          "metadata": {}
        }
      ],
      "source": [
        "dls.train.show_batch(max_n=3)"
      ]
    },
    {
      "cell_type": "code",
      "execution_count": 33,
      "id": "5f3a5ce9-792e-4597-911f-4b9d3860213c",
      "metadata": {
        "colab": {
          "base_uri": "https://localhost:8080/"
        },
        "execution": {
          "iopub.execute_input": "2022-11-13T14:48:55.524710Z",
          "iopub.status.busy": "2022-11-13T14:48:55.524489Z",
          "iopub.status.idle": "2022-11-13T14:48:55.548445Z",
          "shell.execute_reply": "2022-11-13T14:48:55.547811Z",
          "shell.execute_reply.started": "2022-11-13T14:48:55.524696Z"
        },
        "id": "5f3a5ce9-792e-4597-911f-4b9d3860213c",
        "outputId": "b1d118db-9fcc-4b81-e1fa-6cbdedfc0789",
        "tags": []
      },
      "outputs": [
        {
          "output_type": "execute_result",
          "data": {
            "text/plain": [
              "device(type='cuda', index=0)"
            ]
          },
          "metadata": {},
          "execution_count": 33
        }
      ],
      "source": [
        "dls.device"
      ]
    },
    {
      "cell_type": "markdown",
      "id": "eed00487-3894-4a18-b3f9-493e4d1666c6",
      "metadata": {
        "execution": {
          "iopub.execute_input": "2022-11-11T22:20:36.816599Z",
          "iopub.status.busy": "2022-11-11T22:20:36.816357Z",
          "iopub.status.idle": "2022-11-11T22:20:36.818642Z",
          "shell.execute_reply": "2022-11-11T22:20:36.818336Z",
          "shell.execute_reply.started": "2022-11-11T22:20:36.816572Z"
        },
        "id": "eed00487-3894-4a18-b3f9-493e4d1666c6",
        "tags": []
      },
      "source": [
        "# <font color = 'pickle'> Model"
      ]
    },
    {
      "cell_type": "code",
      "execution_count": 34,
      "id": "00d936e4-3ead-414a-a182-d42d0b0ad9c4",
      "metadata": {
        "execution": {
          "iopub.execute_input": "2022-11-13T14:49:04.548579Z",
          "iopub.status.busy": "2022-11-13T14:49:04.548387Z",
          "iopub.status.idle": "2022-11-13T14:49:04.733557Z",
          "shell.execute_reply": "2022-11-13T14:49:04.733140Z",
          "shell.execute_reply.started": "2022-11-13T14:49:04.548566Z"
        },
        "id": "00d936e4-3ead-414a-a182-d42d0b0ad9c4",
        "tags": [],
        "colab": {
          "base_uri": "https://localhost:8080/",
          "height": 49,
          "referenced_widgets": [
            "c4123a4365c54b32b4b4cda42c766b28",
            "bdce566c8c28430aade20ff598e866e1",
            "b3025c89b3d34d60b0eeb9135556daef",
            "e8d498c54e90411c937061835b0e1d5a",
            "ae3cbd238ef6444680a05c2fc2a35cfe",
            "bf90d0df743344c0bbb55da199a4ef04",
            "4521c1d8732e4f9e952fd74796631a8b",
            "465e2c49a14e4ad4bb4bbc33f99c89cc",
            "3533ccb912d748dfb65dce437c8710fc",
            "e1f21baf020e4491b9e910727ea00e99",
            "d1ca8cd8f3c74b4b9dbbe00a542640de"
          ]
        },
        "outputId": "c6989632-4494-4419-f473-87c6f59a0060"
      },
      "outputs": [
        {
          "output_type": "display_data",
          "data": {
            "text/plain": [
              "model.safetensors:   0%|          | 0.00/64.2M [00:00<?, ?B/s]"
            ],
            "application/vnd.jupyter.widget-view+json": {
              "version_major": 2,
              "version_minor": 0,
              "model_id": "c4123a4365c54b32b4b4cda42c766b28"
            }
          },
          "metadata": {}
        }
      ],
      "source": [
        "f1score = F1ScoreMulti(thresh = 0.5)\n",
        "loss_func = nn.BCEWithLogitsLoss()\n",
        "learn = vision_learner(dls,'resnet26d', metrics = [F1ScoreMulti(thresh = 0.5)], path = model_folder).to_fp16()"
      ]
    },
    {
      "cell_type": "code",
      "execution_count": 35,
      "id": "8bea1abd-2d72-4df2-b398-72d7bc0f938f",
      "metadata": {
        "colab": {
          "base_uri": "https://localhost:8080/",
          "height": 471
        },
        "execution": {
          "iopub.execute_input": "2022-11-13T14:49:06.168960Z",
          "iopub.status.busy": "2022-11-13T14:49:06.168748Z",
          "iopub.status.idle": "2022-11-13T14:52:57.115936Z",
          "shell.execute_reply": "2022-11-13T14:52:57.115343Z",
          "shell.execute_reply.started": "2022-11-13T14:49:06.168946Z"
        },
        "id": "8bea1abd-2d72-4df2-b398-72d7bc0f938f",
        "outputId": "9a50864d-96db-4dc4-81d3-831874c1117e",
        "tags": []
      },
      "outputs": [
        {
          "output_type": "display_data",
          "data": {
            "text/plain": [
              "<IPython.core.display.HTML object>"
            ],
            "text/html": [
              "\n",
              "<style>\n",
              "    /* Turns off some styling */\n",
              "    progress {\n",
              "        /* gets rid of default border in Firefox and Opera. */\n",
              "        border: none;\n",
              "        /* Needs to be in here for Safari polyfill so background images work as expected. */\n",
              "        background-size: auto;\n",
              "    }\n",
              "    progress:not([value]), progress:not([value])::-webkit-progress-bar {\n",
              "        background: repeating-linear-gradient(45deg, #7e7e7e, #7e7e7e 10px, #5c5c5c 10px, #5c5c5c 20px);\n",
              "    }\n",
              "    .progress-bar-interrupted, .progress-bar-interrupted::-webkit-progress-bar {\n",
              "        background: #F44336;\n",
              "    }\n",
              "</style>\n"
            ]
          },
          "metadata": {}
        },
        {
          "output_type": "display_data",
          "data": {
            "text/plain": [
              "<IPython.core.display.HTML object>"
            ],
            "text/html": []
          },
          "metadata": {}
        },
        {
          "output_type": "execute_result",
          "data": {
            "text/plain": [
              "SuggestedLRs(minimum=0.014454397559165954, steep=0.03981071710586548, valley=0.0030199517495930195, slide=0.013182567432522774)"
            ]
          },
          "metadata": {},
          "execution_count": 35
        },
        {
          "output_type": "display_data",
          "data": {
            "text/plain": [
              "<Figure size 640x480 with 1 Axes>"
            ],
            "image/png": "[encoded data removed]"
          },
          "metadata": {}
        }
      ],
      "source": [
        "learn.lr_find(suggest_funcs = (minimum, steep, valley, slide))"
      ]
    },
    {
      "cell_type": "code",
      "source": [
        "learn.lr_find()"
      ],
      "metadata": {
        "colab": {
          "base_uri": "https://localhost:8080/",
          "height": 471
        },
        "id": "UCzTKI8H6QIR",
        "outputId": "45fcfb38-7276-4085-ccd8-d34170a02469"
      },
      "id": "UCzTKI8H6QIR",
      "execution_count": 36,
      "outputs": [
        {
          "output_type": "display_data",
          "data": {
            "text/plain": [
              "<IPython.core.display.HTML object>"
            ],
            "text/html": [
              "\n",
              "<style>\n",
              "    /* Turns off some styling */\n",
              "    progress {\n",
              "        /* gets rid of default border in Firefox and Opera. */\n",
              "        border: none;\n",
              "        /* Needs to be in here for Safari polyfill so background images work as expected. */\n",
              "        background-size: auto;\n",
              "    }\n",
              "    progress:not([value]), progress:not([value])::-webkit-progress-bar {\n",
              "        background: repeating-linear-gradient(45deg, #7e7e7e, #7e7e7e 10px, #5c5c5c 10px, #5c5c5c 20px);\n",
              "    }\n",
              "    .progress-bar-interrupted, .progress-bar-interrupted::-webkit-progress-bar {\n",
              "        background: #F44336;\n",
              "    }\n",
              "</style>\n"
            ]
          },
          "metadata": {}
        },
        {
          "output_type": "display_data",
          "data": {
            "text/plain": [
              "<IPython.core.display.HTML object>"
            ],
            "text/html": []
          },
          "metadata": {}
        },
        {
          "output_type": "execute_result",
          "data": {
            "text/plain": [
              "SuggestedLRs(valley=0.0030199517495930195)"
            ]
          },
          "metadata": {},
          "execution_count": 36
        },
        {
          "output_type": "display_data",
          "data": {
            "text/plain": [
              "<Figure size 640x480 with 1 Axes>"
            ],
            "image/png": "[encoded data removed]"
          },
          "metadata": {}
        }
      ]
    },
    {
      "cell_type": "code",
      "source": [
        "learn.fine_tune(10, 0.032)"
      ],
      "metadata": {
        "colab": {
          "base_uri": "https://localhost:8080/",
          "height": 426
        },
        "id": "woJerTLf6O3O",
        "outputId": "8e11c60b-2b85-4d6e-fc7e-f2b2651868ac"
      },
      "id": "woJerTLf6O3O",
      "execution_count": 37,
      "outputs": [
        {
          "output_type": "display_data",
          "data": {
            "text/plain": [
              "<IPython.core.display.HTML object>"
            ],
            "text/html": [
              "\n",
              "<style>\n",
              "    /* Turns off some styling */\n",
              "    progress {\n",
              "        /* gets rid of default border in Firefox and Opera. */\n",
              "        border: none;\n",
              "        /* Needs to be in here for Safari polyfill so background images work as expected. */\n",
              "        background-size: auto;\n",
              "    }\n",
              "    progress:not([value]), progress:not([value])::-webkit-progress-bar {\n",
              "        background: repeating-linear-gradient(45deg, #7e7e7e, #7e7e7e 10px, #5c5c5c 10px, #5c5c5c 20px);\n",
              "    }\n",
              "    .progress-bar-interrupted, .progress-bar-interrupted::-webkit-progress-bar {\n",
              "        background: #F44336;\n",
              "    }\n",
              "</style>\n"
            ]
          },
          "metadata": {}
        },
        {
          "output_type": "display_data",
          "data": {
            "text/plain": [
              "<IPython.core.display.HTML object>"
            ],
            "text/html": [
              "<table border=\"1\" class=\"dataframe\">\n",
              "  <thead>\n",
              "    <tr style=\"text-align: left;\">\n",
              "      <th>epoch</th>\n",
              "      <th>train_loss</th>\n",
              "      <th>valid_loss</th>\n",
              "      <th>f1_score</th>\n",
              "      <th>time</th>\n",
              "    </tr>\n",
              "  </thead>\n",
              "  <tbody>\n",
              "    <tr>\n",
              "      <td>0</td>\n",
              "      <td>0.331860</td>\n",
              "      <td>0.272349</td>\n",
              "      <td>0.613785</td>\n",
              "      <td>01:49</td>\n",
              "    </tr>\n",
              "  </tbody>\n",
              "</table>"
            ]
          },
          "metadata": {}
        },
        {
          "output_type": "display_data",
          "data": {
            "text/plain": [
              "<IPython.core.display.HTML object>"
            ],
            "text/html": [
              "\n",
              "<style>\n",
              "    /* Turns off some styling */\n",
              "    progress {\n",
              "        /* gets rid of default border in Firefox and Opera. */\n",
              "        border: none;\n",
              "        /* Needs to be in here for Safari polyfill so background images work as expected. */\n",
              "        background-size: auto;\n",
              "    }\n",
              "    progress:not([value]), progress:not([value])::-webkit-progress-bar {\n",
              "        background: repeating-linear-gradient(45deg, #7e7e7e, #7e7e7e 10px, #5c5c5c 10px, #5c5c5c 20px);\n",
              "    }\n",
              "    .progress-bar-interrupted, .progress-bar-interrupted::-webkit-progress-bar {\n",
              "        background: #F44336;\n",
              "    }\n",
              "</style>\n"
            ]
          },
          "metadata": {}
        },
        {
          "output_type": "display_data",
          "data": {
            "text/plain": [
              "<IPython.core.display.HTML object>"
            ],
            "text/html": [
              "<table border=\"1\" class=\"dataframe\">\n",
              "  <thead>\n",
              "    <tr style=\"text-align: left;\">\n",
              "      <th>epoch</th>\n",
              "      <th>train_loss</th>\n",
              "      <th>valid_loss</th>\n",
              "      <th>f1_score</th>\n",
              "      <th>time</th>\n",
              "    </tr>\n",
              "  </thead>\n",
              "  <tbody>\n",
              "    <tr>\n",
              "      <td>0</td>\n",
              "      <td>0.191264</td>\n",
              "      <td>0.158952</td>\n",
              "      <td>0.797984</td>\n",
              "      <td>01:50</td>\n",
              "    </tr>\n",
              "    <tr>\n",
              "      <td>1</td>\n",
              "      <td>0.169007</td>\n",
              "      <td>0.144296</td>\n",
              "      <td>0.798599</td>\n",
              "      <td>01:55</td>\n",
              "    </tr>\n",
              "    <tr>\n",
              "      <td>2</td>\n",
              "      <td>0.164932</td>\n",
              "      <td>0.159342</td>\n",
              "      <td>0.810116</td>\n",
              "      <td>01:52</td>\n",
              "    </tr>\n",
              "    <tr>\n",
              "      <td>3</td>\n",
              "      <td>0.142645</td>\n",
              "      <td>0.144209</td>\n",
              "      <td>0.813947</td>\n",
              "      <td>01:53</td>\n",
              "    </tr>\n",
              "    <tr>\n",
              "      <td>4</td>\n",
              "      <td>0.128989</td>\n",
              "      <td>0.117177</td>\n",
              "      <td>0.837726</td>\n",
              "      <td>01:50</td>\n",
              "    </tr>\n",
              "    <tr>\n",
              "      <td>5</td>\n",
              "      <td>0.103021</td>\n",
              "      <td>0.185463</td>\n",
              "      <td>0.855621</td>\n",
              "      <td>01:51</td>\n",
              "    </tr>\n",
              "    <tr>\n",
              "      <td>6</td>\n",
              "      <td>0.088164</td>\n",
              "      <td>0.113910</td>\n",
              "      <td>0.870855</td>\n",
              "      <td>01:56</td>\n",
              "    </tr>\n",
              "    <tr>\n",
              "      <td>7</td>\n",
              "      <td>0.074980</td>\n",
              "      <td>0.109231</td>\n",
              "      <td>0.877850</td>\n",
              "      <td>01:51</td>\n",
              "    </tr>\n",
              "    <tr>\n",
              "      <td>8</td>\n",
              "      <td>0.061756</td>\n",
              "      <td>0.111814</td>\n",
              "      <td>0.876998</td>\n",
              "      <td>01:51</td>\n",
              "    </tr>\n",
              "    <tr>\n",
              "      <td>9</td>\n",
              "      <td>0.051913</td>\n",
              "      <td>0.113344</td>\n",
              "      <td>0.875506</td>\n",
              "      <td>01:50</td>\n",
              "    </tr>\n",
              "  </tbody>\n",
              "</table>"
            ]
          },
          "metadata": {}
        }
      ]
    },
    {
      "cell_type": "markdown",
      "id": "205d19e7-be46-4b10-9724-8851b34d7cb5",
      "metadata": {
        "execution": {
          "iopub.execute_input": "2022-11-12T12:29:30.490008Z",
          "iopub.status.busy": "2022-11-12T12:29:30.489805Z",
          "iopub.status.idle": "2022-11-12T12:29:30.526076Z",
          "shell.execute_reply": "2022-11-12T12:29:30.525165Z",
          "shell.execute_reply.started": "2022-11-12T12:29:30.489989Z"
        },
        "id": "205d19e7-be46-4b10-9724-8851b34d7cb5"
      },
      "source": [
        "# <font color ='pickle'> Find the threshold"
      ]
    },
    {
      "cell_type": "code",
      "execution_count": 38,
      "id": "54451d6e-067f-452d-b25f-383b053d34b2",
      "metadata": {
        "collapsed": true,
        "execution": {
          "iopub.execute_input": "2022-11-12T12:40:01.791629Z",
          "iopub.status.busy": "2022-11-12T12:40:01.791421Z",
          "iopub.status.idle": "2022-11-12T12:40:01.811560Z",
          "shell.execute_reply": "2022-11-12T12:40:01.810970Z",
          "shell.execute_reply.started": "2022-11-12T12:40:01.791616Z"
        },
        "id": "54451d6e-067f-452d-b25f-383b053d34b2",
        "jupyter": {
          "outputs_hidden": true
        },
        "tags": []
      },
      "outputs": [],
      "source": [
        "F1ScoreMulti??"
      ]
    },
    {
      "cell_type": "code",
      "execution_count": 39,
      "id": "e6ba20b6-a031-48f2-a749-dfec89f339c0",
      "metadata": {
        "execution": {
          "iopub.execute_input": "2022-11-13T15:47:39.510343Z",
          "iopub.status.busy": "2022-11-13T15:47:39.510131Z",
          "iopub.status.idle": "2022-11-13T15:47:39.536729Z",
          "shell.execute_reply": "2022-11-13T15:47:39.536203Z",
          "shell.execute_reply.started": "2022-11-13T15:47:39.510328Z"
        },
        "id": "e6ba20b6-a031-48f2-a749-dfec89f339c0",
        "tags": []
      },
      "outputs": [],
      "source": [
        "learn.metrics = F1ScoreMulti(thresh = 0.1)"
      ]
    },
    {
      "cell_type": "code",
      "execution_count": 40,
      "id": "325073e0-95ed-4720-b1d4-0fa237c6b91f",
      "metadata": {
        "execution": {
          "iopub.execute_input": "2022-11-13T15:47:40.644906Z",
          "iopub.status.busy": "2022-11-13T15:47:40.644695Z",
          "iopub.status.idle": "2022-11-13T15:47:40.668655Z",
          "shell.execute_reply": "2022-11-13T15:47:40.668151Z",
          "shell.execute_reply.started": "2022-11-13T15:47:40.644892Z"
        },
        "id": "325073e0-95ed-4720-b1d4-0fa237c6b91f",
        "tags": [],
        "colab": {
          "base_uri": "https://localhost:8080/"
        },
        "outputId": "b10ca221-de94-4e0f-a8ed-c858a45be9b7"
      },
      "outputs": [
        {
          "output_type": "execute_result",
          "data": {
            "text/plain": [
              "(#1) [<fastai.metrics.AccumMetric object at 0x7b72905ec0d0>]"
            ]
          },
          "metadata": {},
          "execution_count": 40
        }
      ],
      "source": [
        "learn.metrics"
      ]
    },
    {
      "cell_type": "code",
      "execution_count": 41,
      "id": "ec327c1f-abaf-4d60-9503-3e0213fd8ccf",
      "metadata": {
        "execution": {
          "iopub.execute_input": "2022-11-13T15:47:41.309216Z",
          "iopub.status.busy": "2022-11-13T15:47:41.309031Z",
          "iopub.status.idle": "2022-11-13T15:49:22.586009Z",
          "shell.execute_reply": "2022-11-13T15:49:22.585602Z",
          "shell.execute_reply.started": "2022-11-13T15:47:41.309202Z"
        },
        "id": "ec327c1f-abaf-4d60-9503-3e0213fd8ccf",
        "tags": [],
        "colab": {
          "base_uri": "https://localhost:8080/",
          "height": 34
        },
        "outputId": "570a1069-fbf5-4cd0-c22e-89d94a04db88"
      },
      "outputs": [
        {
          "output_type": "display_data",
          "data": {
            "text/plain": [
              "<IPython.core.display.HTML object>"
            ],
            "text/html": [
              "\n",
              "<style>\n",
              "    /* Turns off some styling */\n",
              "    progress {\n",
              "        /* gets rid of default border in Firefox and Opera. */\n",
              "        border: none;\n",
              "        /* Needs to be in here for Safari polyfill so background images work as expected. */\n",
              "        background-size: auto;\n",
              "    }\n",
              "    progress:not([value]), progress:not([value])::-webkit-progress-bar {\n",
              "        background: repeating-linear-gradient(45deg, #7e7e7e, #7e7e7e 10px, #5c5c5c 10px, #5c5c5c 20px);\n",
              "    }\n",
              "    .progress-bar-interrupted, .progress-bar-interrupted::-webkit-progress-bar {\n",
              "        background: #F44336;\n",
              "    }\n",
              "</style>\n"
            ]
          },
          "metadata": {}
        },
        {
          "output_type": "display_data",
          "data": {
            "text/plain": [
              "<IPython.core.display.HTML object>"
            ],
            "text/html": []
          },
          "metadata": {}
        },
        {
          "output_type": "execute_result",
          "data": {
            "text/plain": [
              "(#2) [0.11334440112113953,0.8666728603494002]"
            ]
          },
          "metadata": {},
          "execution_count": 41
        }
      ],
      "source": [
        "learn.validate()"
      ]
    },
    {
      "cell_type": "code",
      "execution_count": 42,
      "id": "6bdc2737-cc43-4898-9a9a-e125d494fc29",
      "metadata": {
        "execution": {
          "iopub.execute_input": "2022-11-13T15:49:22.586922Z",
          "iopub.status.busy": "2022-11-13T15:49:22.586751Z",
          "iopub.status.idle": "2022-11-13T15:49:22.612928Z",
          "shell.execute_reply": "2022-11-13T15:49:22.612457Z",
          "shell.execute_reply.started": "2022-11-13T15:49:22.586909Z"
        },
        "id": "6bdc2737-cc43-4898-9a9a-e125d494fc29",
        "tags": []
      },
      "outputs": [],
      "source": [
        "learn.metrics = F1ScoreMulti(thresh = 0.9)"
      ]
    },
    {
      "cell_type": "code",
      "execution_count": 43,
      "id": "d02452a1-464d-4ee5-a665-93272e3212a2",
      "metadata": {
        "execution": {
          "iopub.execute_input": "2022-11-13T15:49:22.613619Z",
          "iopub.status.busy": "2022-11-13T15:49:22.613452Z",
          "iopub.status.idle": "2022-11-13T15:51:04.465447Z",
          "shell.execute_reply": "2022-11-13T15:51:04.465038Z",
          "shell.execute_reply.started": "2022-11-13T15:49:22.613606Z"
        },
        "id": "d02452a1-464d-4ee5-a665-93272e3212a2",
        "tags": [],
        "colab": {
          "base_uri": "https://localhost:8080/",
          "height": 34
        },
        "outputId": "ba9ac261-cb12-4331-f7ce-c998bb93ef33"
      },
      "outputs": [
        {
          "output_type": "display_data",
          "data": {
            "text/plain": [
              "<IPython.core.display.HTML object>"
            ],
            "text/html": [
              "\n",
              "<style>\n",
              "    /* Turns off some styling */\n",
              "    progress {\n",
              "        /* gets rid of default border in Firefox and Opera. */\n",
              "        border: none;\n",
              "        /* Needs to be in here for Safari polyfill so background images work as expected. */\n",
              "        background-size: auto;\n",
              "    }\n",
              "    progress:not([value]), progress:not([value])::-webkit-progress-bar {\n",
              "        background: repeating-linear-gradient(45deg, #7e7e7e, #7e7e7e 10px, #5c5c5c 10px, #5c5c5c 20px);\n",
              "    }\n",
              "    .progress-bar-interrupted, .progress-bar-interrupted::-webkit-progress-bar {\n",
              "        background: #F44336;\n",
              "    }\n",
              "</style>\n"
            ]
          },
          "metadata": {}
        },
        {
          "output_type": "display_data",
          "data": {
            "text/plain": [
              "<IPython.core.display.HTML object>"
            ],
            "text/html": []
          },
          "metadata": {}
        },
        {
          "output_type": "execute_result",
          "data": {
            "text/plain": [
              "(#2) [0.11334440112113953,0.8215271280624674]"
            ]
          },
          "metadata": {},
          "execution_count": 43
        }
      ],
      "source": [
        "learn.validate()"
      ]
    },
    {
      "cell_type": "code",
      "execution_count": 44,
      "id": "4e776ccc-f658-4c63-aefa-ed5141c2af6c",
      "metadata": {
        "execution": {
          "iopub.execute_input": "2022-11-13T15:51:04.466620Z",
          "iopub.status.busy": "2022-11-13T15:51:04.466446Z",
          "iopub.status.idle": "2022-11-13T15:52:46.235150Z",
          "shell.execute_reply": "2022-11-13T15:52:46.234720Z",
          "shell.execute_reply.started": "2022-11-13T15:51:04.466606Z"
        },
        "id": "4e776ccc-f658-4c63-aefa-ed5141c2af6c",
        "tags": [],
        "colab": {
          "base_uri": "https://localhost:8080/",
          "height": 17
        },
        "outputId": "da6f57ec-4e18-482f-df30-b3ec3e1beb79"
      },
      "outputs": [
        {
          "output_type": "display_data",
          "data": {
            "text/plain": [
              "<IPython.core.display.HTML object>"
            ],
            "text/html": [
              "\n",
              "<style>\n",
              "    /* Turns off some styling */\n",
              "    progress {\n",
              "        /* gets rid of default border in Firefox and Opera. */\n",
              "        border: none;\n",
              "        /* Needs to be in here for Safari polyfill so background images work as expected. */\n",
              "        background-size: auto;\n",
              "    }\n",
              "    progress:not([value]), progress:not([value])::-webkit-progress-bar {\n",
              "        background: repeating-linear-gradient(45deg, #7e7e7e, #7e7e7e 10px, #5c5c5c 10px, #5c5c5c 20px);\n",
              "    }\n",
              "    .progress-bar-interrupted, .progress-bar-interrupted::-webkit-progress-bar {\n",
              "        background: #F44336;\n",
              "    }\n",
              "</style>\n"
            ]
          },
          "metadata": {}
        },
        {
          "output_type": "display_data",
          "data": {
            "text/plain": [
              "<IPython.core.display.HTML object>"
            ],
            "text/html": []
          },
          "metadata": {}
        }
      ],
      "source": [
        "preds, targs = learn.get_preds()"
      ]
    },
    {
      "cell_type": "code",
      "execution_count": 45,
      "id": "4d3ff5a4-57bd-4659-8ae5-0d3ee0be87dd",
      "metadata": {
        "execution": {
          "iopub.execute_input": "2022-11-13T15:52:46.235934Z",
          "iopub.status.busy": "2022-11-13T15:52:46.235741Z",
          "iopub.status.idle": "2022-11-13T15:52:46.263839Z",
          "shell.execute_reply": "2022-11-13T15:52:46.263462Z",
          "shell.execute_reply.started": "2022-11-13T15:52:46.235918Z"
        },
        "id": "4d3ff5a4-57bd-4659-8ae5-0d3ee0be87dd",
        "tags": [],
        "colab": {
          "base_uri": "https://localhost:8080/"
        },
        "outputId": "be07d476-c786-4659-d8d7-dfef78a24746"
      },
      "outputs": [
        {
          "output_type": "execute_result",
          "data": {
            "text/plain": [
              "(torch.Size([2608, 6]), torch.Size([2608, 6]))"
            ]
          },
          "metadata": {},
          "execution_count": 45
        }
      ],
      "source": [
        "preds.shape, targs.shape"
      ]
    },
    {
      "cell_type": "code",
      "execution_count": 46,
      "id": "e63a8bb8-19f9-44ce-84d4-a1a514bfd38c",
      "metadata": {
        "execution": {
          "iopub.execute_input": "2022-11-13T15:52:46.264478Z",
          "iopub.status.busy": "2022-11-13T15:52:46.264310Z",
          "iopub.status.idle": "2022-11-13T15:52:46.291514Z",
          "shell.execute_reply": "2022-11-13T15:52:46.290940Z",
          "shell.execute_reply.started": "2022-11-13T15:52:46.264465Z"
        },
        "id": "e63a8bb8-19f9-44ce-84d4-a1a514bfd38c",
        "tags": []
      },
      "outputs": [],
      "source": [
        "f1score = F1ScoreMulti(thresh = None, sigmoid=False)"
      ]
    },
    {
      "cell_type": "code",
      "execution_count": 47,
      "id": "7f7c9fcc-e6d3-427b-9049-ee2349033f3e",
      "metadata": {
        "execution": {
          "iopub.execute_input": "2022-11-13T15:52:46.292663Z",
          "iopub.status.busy": "2022-11-13T15:52:46.292271Z",
          "iopub.status.idle": "2022-11-13T15:52:46.328377Z",
          "shell.execute_reply": "2022-11-13T15:52:46.327858Z",
          "shell.execute_reply.started": "2022-11-13T15:52:46.292644Z"
        },
        "id": "7f7c9fcc-e6d3-427b-9049-ee2349033f3e",
        "tags": []
      },
      "outputs": [],
      "source": [
        "idxs = (preds>0.5) * 1"
      ]
    },
    {
      "cell_type": "code",
      "source": [
        "f1score(idxs, targs)"
      ],
      "metadata": {
        "id": "4mzPoHKm75TP",
        "colab": {
          "base_uri": "https://localhost:8080/"
        },
        "outputId": "ef983d0b-3f7d-41bb-b7fe-bfcff05551c7"
      },
      "id": "4mzPoHKm75TP",
      "execution_count": 48,
      "outputs": [
        {
          "output_type": "execute_result",
          "data": {
            "text/plain": [
              "0.8755058424502883"
            ]
          },
          "metadata": {},
          "execution_count": 48
        }
      ]
    },
    {
      "cell_type": "code",
      "execution_count": null,
      "id": "6a069995-994e-427a-8f40-c7e25e1a1389",
      "metadata": {
        "execution": {
          "iopub.execute_input": "2022-11-13T15:52:46.329605Z",
          "iopub.status.busy": "2022-11-13T15:52:46.329132Z",
          "iopub.status.idle": "2022-11-13T15:52:46.366665Z",
          "shell.execute_reply": "2022-11-13T15:52:46.366278Z",
          "shell.execute_reply.started": "2022-11-13T15:52:46.329583Z"
        },
        "id": "6a069995-994e-427a-8f40-c7e25e1a1389",
        "outputId": "b405d73e-25a3-4988-f5dc-8f9feb43568e",
        "tags": [],
        "colab": {
          "base_uri": "https://localhost:8080/"
        }
      },
      "outputs": [
        {
          "output_type": "execute_result",
          "data": {
            "text/plain": [
              "0.8542784029895971"
            ]
          },
          "metadata": {},
          "execution_count": 47
        }
      ],
      "source": [
        "f1score(idxs, targs)"
      ]
    },
    {
      "cell_type": "code",
      "execution_count": 49,
      "id": "f30c581c-741c-4b9e-a701-8728d2a45fd4",
      "metadata": {
        "execution": {
          "iopub.execute_input": "2022-11-13T15:52:46.367725Z",
          "iopub.status.busy": "2022-11-13T15:52:46.367339Z",
          "iopub.status.idle": "2022-11-13T15:52:46.402962Z",
          "shell.execute_reply": "2022-11-13T15:52:46.402504Z",
          "shell.execute_reply.started": "2022-11-13T15:52:46.367709Z"
        },
        "id": "f30c581c-741c-4b9e-a701-8728d2a45fd4",
        "tags": []
      },
      "outputs": [],
      "source": [
        "xs = torch.linspace(0.05, 0.95, 29)"
      ]
    },
    {
      "cell_type": "code",
      "execution_count": 50,
      "id": "39bc35f3-b5b7-4a6a-95cd-2a6ab6a2d6e6",
      "metadata": {
        "execution": {
          "iopub.execute_input": "2022-11-13T15:52:46.404938Z",
          "iopub.status.busy": "2022-11-13T15:52:46.404612Z",
          "iopub.status.idle": "2022-11-13T15:52:46.528953Z",
          "shell.execute_reply": "2022-11-13T15:52:46.528384Z",
          "shell.execute_reply.started": "2022-11-13T15:52:46.404919Z"
        },
        "id": "39bc35f3-b5b7-4a6a-95cd-2a6ab6a2d6e6",
        "tags": []
      },
      "outputs": [],
      "source": [
        "f1scores = [f1score((preds>i) * 1, targs) for i in xs]"
      ]
    },
    {
      "cell_type": "code",
      "execution_count": 51,
      "id": "577106c1-d716-42bd-8d40-b4631e294286",
      "metadata": {
        "execution": {
          "iopub.execute_input": "2022-11-13T15:52:46.529558Z",
          "iopub.status.busy": "2022-11-13T15:52:46.529427Z",
          "iopub.status.idle": "2022-11-13T15:52:46.610369Z",
          "shell.execute_reply": "2022-11-13T15:52:46.609983Z",
          "shell.execute_reply.started": "2022-11-13T15:52:46.529546Z"
        },
        "id": "577106c1-d716-42bd-8d40-b4631e294286",
        "outputId": "87ba55dc-6fcf-4bfa-edd6-e82849f28690",
        "tags": [],
        "colab": {
          "base_uri": "https://localhost:8080/",
          "height": 447
        }
      },
      "outputs": [
        {
          "output_type": "execute_result",
          "data": {
            "text/plain": [
              "[<matplotlib.lines.Line2D at 0x7b7275554970>]"
            ]
          },
          "metadata": {},
          "execution_count": 51
        },
        {
          "output_type": "display_data",
          "data": {
            "text/plain": [
              "<Figure size 640x480 with 1 Axes>"
            ],
            "image/png": "[encoded data removed]"
          },
          "metadata": {}
        }
      ],
      "source": [
        "plt.plot(xs, f1scores)"
      ]
    },
    {
      "cell_type": "code",
      "execution_count": 52,
      "id": "2ef58a6c-11ff-4294-90fa-ea3d1a77fdbc",
      "metadata": {
        "execution": {
          "iopub.execute_input": "2022-11-13T15:52:46.611169Z",
          "iopub.status.busy": "2022-11-13T15:52:46.610918Z",
          "iopub.status.idle": "2022-11-13T15:52:46.634694Z",
          "shell.execute_reply": "2022-11-13T15:52:46.634237Z",
          "shell.execute_reply.started": "2022-11-13T15:52:46.611156Z"
        },
        "id": "2ef58a6c-11ff-4294-90fa-ea3d1a77fdbc",
        "outputId": "f5e88890-969a-4e21-bab6-fa556447e7cb",
        "tags": [],
        "colab": {
          "base_uri": "https://localhost:8080/"
        }
      },
      "outputs": [
        {
          "output_type": "execute_result",
          "data": {
            "text/plain": [
              "tensor(8)"
            ]
          },
          "metadata": {},
          "execution_count": 52
        }
      ],
      "source": [
        "torch.argmax(torch.tensor(f1scores))"
      ]
    },
    {
      "cell_type": "code",
      "execution_count": 53,
      "id": "cd7f493d-4648-40d5-8cf9-82d0016205e6",
      "metadata": {
        "execution": {
          "iopub.execute_input": "2022-11-13T15:52:46.635502Z",
          "iopub.status.busy": "2022-11-13T15:52:46.635250Z",
          "iopub.status.idle": "2022-11-13T15:52:46.659527Z",
          "shell.execute_reply": "2022-11-13T15:52:46.659106Z",
          "shell.execute_reply.started": "2022-11-13T15:52:46.635488Z"
        },
        "id": "cd7f493d-4648-40d5-8cf9-82d0016205e6",
        "outputId": "d747e0f2-8e42-49c5-84a3-9e06cf5b8254",
        "tags": [],
        "colab": {
          "base_uri": "https://localhost:8080/"
        }
      },
      "outputs": [
        {
          "output_type": "execute_result",
          "data": {
            "text/plain": [
              "tensor(0.3393)"
            ]
          },
          "metadata": {},
          "execution_count": 53
        }
      ],
      "source": [
        "xs[9]"
      ]
    },
    {
      "cell_type": "code",
      "execution_count": 54,
      "id": "804b0529-cd16-4a1c-abeb-17fd10536513",
      "metadata": {
        "execution": {
          "iopub.execute_input": "2022-11-13T15:52:46.660125Z",
          "iopub.status.busy": "2022-11-13T15:52:46.659998Z",
          "iopub.status.idle": "2022-11-13T15:52:46.683561Z",
          "shell.execute_reply": "2022-11-13T15:52:46.683160Z",
          "shell.execute_reply.started": "2022-11-13T15:52:46.660112Z"
        },
        "id": "804b0529-cd16-4a1c-abeb-17fd10536513",
        "outputId": "8ea6374f-c744-447a-ff40-7bad19d0116c",
        "tags": [],
        "colab": {
          "base_uri": "https://localhost:8080/"
        }
      },
      "outputs": [
        {
          "output_type": "execute_result",
          "data": {
            "text/plain": [
              "0.8776749573557933"
            ]
          },
          "metadata": {},
          "execution_count": 54
        }
      ],
      "source": [
        "f1scores[9]"
      ]
    },
    {
      "cell_type": "markdown",
      "id": "1db00331-07cf-4add-a468-2431b0e4e556",
      "metadata": {
        "id": "1db00331-07cf-4add-a468-2431b0e4e556"
      },
      "source": [
        "# <font color ='pickle'>Test Predictions"
      ]
    },
    {
      "cell_type": "code",
      "execution_count": 55,
      "id": "cdeb943e-97e7-4ae3-bad2-a0e68115aa37",
      "metadata": {
        "execution": {
          "iopub.execute_input": "2022-11-13T15:53:02.653324Z",
          "iopub.status.busy": "2022-11-13T15:53:02.653090Z",
          "iopub.status.idle": "2022-11-13T15:53:02.676037Z",
          "shell.execute_reply": "2022-11-13T15:53:02.675459Z",
          "shell.execute_reply.started": "2022-11-13T15:53:02.653312Z"
        },
        "id": "cdeb943e-97e7-4ae3-bad2-a0e68115aa37",
        "tags": []
      },
      "outputs": [],
      "source": [
        "test_files = get_image_files(data_folder/'test/test').sorted()"
      ]
    },
    {
      "cell_type": "code",
      "source": [
        "test_files"
      ],
      "metadata": {
        "colab": {
          "base_uri": "https://localhost:8080/"
        },
        "id": "YN-an-GcOjD_",
        "outputId": "9f516cd6-d68a-4a3c-f2f8-176b44cc6af4"
      },
      "id": "YN-an-GcOjD_",
      "execution_count": 56,
      "outputs": [
        {
          "output_type": "execute_result",
          "data": {
            "text/plain": [
              "(#5590) [Path('/content/inclass_kaggle_data/test/test/test_image_1.jpg'),Path('/content/inclass_kaggle_data/test/test/test_image_10.jpg'),Path('/content/inclass_kaggle_data/test/test/test_image_100.jpg'),Path('/content/inclass_kaggle_data/test/test/test_image_1000.jpg'),Path('/content/inclass_kaggle_data/test/test/test_image_1001.jpg'),Path('/content/inclass_kaggle_data/test/test/test_image_1002.jpg'),Path('/content/inclass_kaggle_data/test/test/test_image_1003.jpg'),Path('/content/inclass_kaggle_data/test/test/test_image_1004.jpg'),Path('/content/inclass_kaggle_data/test/test/test_image_1005.jpg'),Path('/content/inclass_kaggle_data/test/test/test_image_1006.jpg')...]"
            ]
          },
          "metadata": {},
          "execution_count": 56
        }
      ]
    },
    {
      "cell_type": "code",
      "execution_count": 57,
      "id": "1fc9b69c-534f-4368-9188-ee933dbec8b7",
      "metadata": {
        "execution": {
          "iopub.execute_input": "2022-11-13T15:53:03.375295Z",
          "iopub.status.busy": "2022-11-13T15:53:03.375018Z",
          "iopub.status.idle": "2022-11-13T15:53:03.399246Z",
          "shell.execute_reply": "2022-11-13T15:53:03.398775Z",
          "shell.execute_reply.started": "2022-11-13T15:53:03.375281Z"
        },
        "id": "1fc9b69c-534f-4368-9188-ee933dbec8b7",
        "tags": []
      },
      "outputs": [],
      "source": [
        "test_dl = learn.dls.test_dl(test_files)"
      ]
    },
    {
      "cell_type": "code",
      "execution_count": 58,
      "id": "89791674-b336-4c52-861c-6f03cae6cdca",
      "metadata": {
        "execution": {
          "iopub.execute_input": "2022-11-13T15:53:04.051727Z",
          "iopub.status.busy": "2022-11-13T15:53:04.051552Z",
          "iopub.status.idle": "2022-11-13T15:53:04.789884Z",
          "shell.execute_reply": "2022-11-13T15:53:04.789466Z",
          "shell.execute_reply.started": "2022-11-13T15:53:04.051714Z"
        },
        "id": "89791674-b336-4c52-861c-6f03cae6cdca",
        "outputId": "2478ee64-30e0-4b5a-e0ce-b2f0d46db9a8",
        "tags": [],
        "colab": {
          "base_uri": "https://localhost:8080/",
          "height": 242
        }
      },
      "outputs": [
        {
          "output_type": "display_data",
          "data": {
            "text/plain": [
              "<Figure size 900x300 with 3 Axes>"
            ],
            "image/png": "[encoded data removed]"
          },
          "metadata": {}
        }
      ],
      "source": [
        "test_dl.show_batch(max_n=3)"
      ]
    },
    {
      "cell_type": "code",
      "execution_count": 59,
      "id": "7293d4fc-e59a-45c5-961f-719c9e240bb3",
      "metadata": {
        "execution": {
          "iopub.execute_input": "2022-11-13T15:53:04.790957Z",
          "iopub.status.busy": "2022-11-13T15:53:04.790587Z",
          "iopub.status.idle": "2022-11-13T15:53:15.630927Z",
          "shell.execute_reply": "2022-11-13T15:53:15.630493Z",
          "shell.execute_reply.started": "2022-11-13T15:53:04.790936Z"
        },
        "id": "7293d4fc-e59a-45c5-961f-719c9e240bb3",
        "outputId": "d32a73b5-4dee-483d-b541-072aae7c22cc",
        "tags": [],
        "colab": {
          "base_uri": "https://localhost:8080/",
          "height": 37
        }
      },
      "outputs": [
        {
          "output_type": "display_data",
          "data": {
            "text/plain": [
              "<IPython.core.display.HTML object>"
            ],
            "text/html": [
              "\n",
              "<style>\n",
              "    /* Turns off some styling */\n",
              "    progress {\n",
              "        /* gets rid of default border in Firefox and Opera. */\n",
              "        border: none;\n",
              "        /* Needs to be in here for Safari polyfill so background images work as expected. */\n",
              "        background-size: auto;\n",
              "    }\n",
              "    progress:not([value]), progress:not([value])::-webkit-progress-bar {\n",
              "        background: repeating-linear-gradient(45deg, #7e7e7e, #7e7e7e 10px, #5c5c5c 10px, #5c5c5c 20px);\n",
              "    }\n",
              "    .progress-bar-interrupted, .progress-bar-interrupted::-webkit-progress-bar {\n",
              "        background: #F44336;\n",
              "    }\n",
              "</style>\n"
            ]
          },
          "metadata": {}
        },
        {
          "output_type": "display_data",
          "data": {
            "text/plain": [
              "<IPython.core.display.HTML object>"
            ],
            "text/html": [
              "\n",
              "    <div>\n",
              "      <progress value='0' class='' max='10' style='width:300px; height:20px; vertical-align: middle;'></progress>\n",
              "      \n",
              "    </div>\n",
              "    \n"
            ]
          },
          "metadata": {}
        },
        {
          "output_type": "display_data",
          "data": {
            "text/plain": [
              "<IPython.core.display.HTML object>"
            ],
            "text/html": [
              "\n",
              "<style>\n",
              "    /* Turns off some styling */\n",
              "    progress {\n",
              "        /* gets rid of default border in Firefox and Opera. */\n",
              "        border: none;\n",
              "        /* Needs to be in here for Safari polyfill so background images work as expected. */\n",
              "        background-size: auto;\n",
              "    }\n",
              "    progress:not([value]), progress:not([value])::-webkit-progress-bar {\n",
              "        background: repeating-linear-gradient(45deg, #7e7e7e, #7e7e7e 10px, #5c5c5c 10px, #5c5c5c 20px);\n",
              "    }\n",
              "    .progress-bar-interrupted, .progress-bar-interrupted::-webkit-progress-bar {\n",
              "        background: #F44336;\n",
              "    }\n",
              "</style>\n"
            ]
          },
          "metadata": {}
        },
        {
          "output_type": "display_data",
          "data": {
            "text/plain": [
              "<IPython.core.display.HTML object>"
            ],
            "text/html": []
          },
          "metadata": {}
        }
      ],
      "source": [
        "preds, _ = learn.tta(dl = test_dl)"
      ]
    },
    {
      "cell_type": "code",
      "execution_count": 60,
      "id": "c10c747e-d41b-424c-9d90-2e7697957973",
      "metadata": {
        "execution": {
          "iopub.execute_input": "2022-11-13T15:53:15.632030Z",
          "iopub.status.busy": "2022-11-13T15:53:15.631839Z",
          "iopub.status.idle": "2022-11-13T15:53:15.660293Z",
          "shell.execute_reply": "2022-11-13T15:53:15.659758Z",
          "shell.execute_reply.started": "2022-11-13T15:53:15.632016Z"
        },
        "id": "c10c747e-d41b-424c-9d90-2e7697957973",
        "outputId": "12f3305a-71fd-4267-db88-f312836074c0",
        "tags": [],
        "colab": {
          "base_uri": "https://localhost:8080/"
        }
      },
      "outputs": [
        {
          "output_type": "execute_result",
          "data": {
            "text/plain": [
              "tensor([[1.0969e-03, 4.5402e-03, 9.8093e-01, 3.6445e-03, 2.9044e-04, 1.9190e-03],\n",
              "        [9.4752e-01, 1.4534e-01, 2.1734e-04, 4.2299e-03, 7.0328e-03, 5.5935e-02],\n",
              "        [3.4132e-03, 9.9001e-01, 6.7676e-05, 3.4743e-05, 1.4442e-04, 1.5119e-03],\n",
              "        ...,\n",
              "        [1.2253e-04, 9.2616e-05, 9.9996e-01, 1.8372e-06, 5.7084e-06, 2.7328e-05],\n",
              "        [2.0255e-01, 9.5061e-01, 6.8651e-05, 2.4248e-05, 3.8500e-04, 1.9331e-01],\n",
              "        [2.0943e-04, 5.9807e-05, 2.8830e-05, 9.9966e-01, 3.7136e-05, 8.3217e-05]])"
            ]
          },
          "metadata": {},
          "execution_count": 60
        }
      ],
      "source": [
        "preds"
      ]
    },
    {
      "cell_type": "code",
      "execution_count": 61,
      "id": "01566f2e-c5a1-40b9-ac7c-e190ea1ea0bb",
      "metadata": {
        "execution": {
          "iopub.execute_input": "2022-11-13T15:53:44.919782Z",
          "iopub.status.busy": "2022-11-13T15:53:44.919570Z",
          "iopub.status.idle": "2022-11-13T15:53:44.942085Z",
          "shell.execute_reply": "2022-11-13T15:53:44.941733Z",
          "shell.execute_reply.started": "2022-11-13T15:53:44.919755Z"
        },
        "id": "01566f2e-c5a1-40b9-ac7c-e190ea1ea0bb",
        "tags": []
      },
      "outputs": [],
      "source": [
        "pred_decoded = [torch.where(pred>0.34)[0] for pred in preds]"
      ]
    },
    {
      "cell_type": "code",
      "execution_count": 62,
      "id": "472efa23-989f-4c58-aad6-916f44c376ae",
      "metadata": {
        "execution": {
          "iopub.execute_input": "2022-11-13T15:53:46.390523Z",
          "iopub.status.busy": "2022-11-13T15:53:46.390311Z",
          "iopub.status.idle": "2022-11-13T15:53:46.413725Z",
          "shell.execute_reply": "2022-11-13T15:53:46.413243Z",
          "shell.execute_reply.started": "2022-11-13T15:53:46.390509Z"
        },
        "id": "472efa23-989f-4c58-aad6-916f44c376ae",
        "outputId": "55bde302-862d-430a-df5e-407d905cc422",
        "tags": [],
        "colab": {
          "base_uri": "https://localhost:8080/"
        }
      },
      "outputs": [
        {
          "output_type": "execute_result",
          "data": {
            "text/plain": [
              "[tensor([2]),\n",
              " tensor([0]),\n",
              " tensor([1]),\n",
              " tensor([1]),\n",
              " tensor([1]),\n",
              " tensor([1]),\n",
              " tensor([0, 1]),\n",
              " tensor([0, 1]),\n",
              " tensor([0]),\n",
              " tensor([5]),\n",
              " tensor([2]),\n",
              " tensor([5]),\n",
              " tensor([2]),\n",
              " tensor([1]),\n",
              " tensor([5]),\n",
              " tensor([5]),\n",
              " tensor([0, 4]),\n",
              " tensor([2]),\n",
              " tensor([2]),\n",
              " tensor([5])]"
            ]
          },
          "metadata": {},
          "execution_count": 62
        }
      ],
      "source": [
        "pred_decoded[0:20]"
      ]
    },
    {
      "cell_type": "code",
      "execution_count": 63,
      "id": "b58e7db2-e000-4121-998b-29df9c7a28cd",
      "metadata": {
        "execution": {
          "iopub.execute_input": "2022-11-13T15:55:15.692650Z",
          "iopub.status.busy": "2022-11-13T15:55:15.692467Z",
          "iopub.status.idle": "2022-11-13T15:55:15.716025Z",
          "shell.execute_reply": "2022-11-13T15:55:15.715530Z",
          "shell.execute_reply.started": "2022-11-13T15:55:15.692635Z"
        },
        "id": "b58e7db2-e000-4121-998b-29df9c7a28cd"
      },
      "outputs": [],
      "source": [
        "vocab = learn.dls.vocab"
      ]
    },
    {
      "cell_type": "code",
      "execution_count": 64,
      "id": "a2c1b30f-489f-4899-bd0f-0949617f79b7",
      "metadata": {
        "execution": {
          "iopub.execute_input": "2022-11-13T15:55:18.738876Z",
          "iopub.status.busy": "2022-11-13T15:55:18.738670Z",
          "iopub.status.idle": "2022-11-13T15:55:18.762978Z",
          "shell.execute_reply": "2022-11-13T15:55:18.762476Z",
          "shell.execute_reply.started": "2022-11-13T15:55:18.738861Z"
        },
        "id": "a2c1b30f-489f-4899-bd0f-0949617f79b7",
        "tags": []
      },
      "outputs": [],
      "source": [
        "pred_labels = [vocab[pred] for pred in pred_decoded[0:20]]"
      ]
    },
    {
      "cell_type": "code",
      "execution_count": 65,
      "id": "3ab63616-68b9-484e-8201-d1233cafc3c5",
      "metadata": {
        "execution": {
          "iopub.execute_input": "2022-11-13T15:55:21.746121Z",
          "iopub.status.busy": "2022-11-13T15:55:21.745905Z",
          "iopub.status.idle": "2022-11-13T15:55:21.769019Z",
          "shell.execute_reply": "2022-11-13T15:55:21.768564Z",
          "shell.execute_reply.started": "2022-11-13T15:55:21.746106Z"
        },
        "id": "3ab63616-68b9-484e-8201-d1233cafc3c5",
        "outputId": "67245150-8e41-41f4-a836-5cea78b8fb37",
        "tags": [],
        "colab": {
          "base_uri": "https://localhost:8080/"
        }
      },
      "outputs": [
        {
          "output_type": "execute_result",
          "data": {
            "text/plain": [
              "[(#1) ['healthy'],\n",
              " (#1) ['complex'],\n",
              " (#1) ['frog_eye_leaf_spot'],\n",
              " (#1) ['frog_eye_leaf_spot'],\n",
              " (#1) ['frog_eye_leaf_spot'],\n",
              " (#1) ['frog_eye_leaf_spot'],\n",
              " (#2) ['complex','frog_eye_leaf_spot'],\n",
              " (#2) ['complex','frog_eye_leaf_spot'],\n",
              " (#1) ['complex'],\n",
              " (#1) ['scab'],\n",
              " (#1) ['healthy'],\n",
              " (#1) ['scab'],\n",
              " (#1) ['healthy'],\n",
              " (#1) ['frog_eye_leaf_spot'],\n",
              " (#1) ['scab'],\n",
              " (#1) ['scab'],\n",
              " (#2) ['complex','rust'],\n",
              " (#1) ['healthy'],\n",
              " (#1) ['healthy'],\n",
              " (#1) ['scab']]"
            ]
          },
          "metadata": {},
          "execution_count": 65
        }
      ],
      "source": [
        "pred_labels"
      ]
    },
    {
      "cell_type": "code",
      "execution_count": 66,
      "id": "8f09b701-e0d0-494a-869f-74f07d05e593",
      "metadata": {
        "execution": {
          "iopub.execute_input": "2022-11-13T15:55:26.863700Z",
          "iopub.status.busy": "2022-11-13T15:55:26.863489Z",
          "iopub.status.idle": "2022-11-13T15:55:26.886802Z",
          "shell.execute_reply": "2022-11-13T15:55:26.886337Z",
          "shell.execute_reply.started": "2022-11-13T15:55:26.863686Z"
        },
        "id": "8f09b701-e0d0-494a-869f-74f07d05e593",
        "outputId": "dd7aec12-6ea5-4576-af05-f33d4868760f",
        "tags": [],
        "colab": {
          "base_uri": "https://localhost:8080/"
        }
      },
      "outputs": [
        {
          "output_type": "execute_result",
          "data": {
            "text/plain": [
              "['healthy',\n",
              " 'complex',\n",
              " 'frog_eye_leaf_spot',\n",
              " 'frog_eye_leaf_spot',\n",
              " 'frog_eye_leaf_spot',\n",
              " 'frog_eye_leaf_spot',\n",
              " 'complex frog_eye_leaf_spot',\n",
              " 'complex frog_eye_leaf_spot',\n",
              " 'complex',\n",
              " 'scab',\n",
              " 'healthy',\n",
              " 'scab',\n",
              " 'healthy',\n",
              " 'frog_eye_leaf_spot',\n",
              " 'scab',\n",
              " 'scab',\n",
              " 'complex rust',\n",
              " 'healthy',\n",
              " 'healthy',\n",
              " 'scab']"
            ]
          },
          "metadata": {},
          "execution_count": 66
        }
      ],
      "source": [
        "[\" \".join(pred)for pred in pred_labels]"
      ]
    },
    {
      "cell_type": "code",
      "execution_count": 67,
      "id": "e098d700-8c74-4e81-b0bc-1f629adb27c4",
      "metadata": {
        "execution": {
          "iopub.execute_input": "2022-11-13T15:55:57.339688Z",
          "iopub.status.busy": "2022-11-13T15:55:57.339280Z",
          "iopub.status.idle": "2022-11-13T15:55:57.362892Z",
          "shell.execute_reply": "2022-11-13T15:55:57.362314Z",
          "shell.execute_reply.started": "2022-11-13T15:55:57.339673Z"
        },
        "id": "e098d700-8c74-4e81-b0bc-1f629adb27c4",
        "tags": []
      },
      "outputs": [],
      "source": [
        "pred_labels = [' '.join(vocab[torch.where(pred>0.34)[0]]) for pred in preds]"
      ]
    },
    {
      "cell_type": "code",
      "execution_count": 68,
      "id": "b5d470e5-2e6d-4411-a057-7b3d34caa882",
      "metadata": {
        "execution": {
          "iopub.execute_input": "2022-11-13T15:55:58.109028Z",
          "iopub.status.busy": "2022-11-13T15:55:58.108852Z",
          "iopub.status.idle": "2022-11-13T15:55:58.132144Z",
          "shell.execute_reply": "2022-11-13T15:55:58.131741Z",
          "shell.execute_reply.started": "2022-11-13T15:55:58.109013Z"
        },
        "id": "b5d470e5-2e6d-4411-a057-7b3d34caa882",
        "outputId": "89bcf446-ffd4-4aef-e120-0f36cc93a890",
        "tags": [],
        "colab": {
          "base_uri": "https://localhost:8080/"
        }
      },
      "outputs": [
        {
          "output_type": "execute_result",
          "data": {
            "text/plain": [
              "['healthy',\n",
              " 'complex',\n",
              " 'frog_eye_leaf_spot',\n",
              " 'frog_eye_leaf_spot',\n",
              " 'frog_eye_leaf_spot',\n",
              " 'frog_eye_leaf_spot',\n",
              " 'complex frog_eye_leaf_spot',\n",
              " 'complex frog_eye_leaf_spot',\n",
              " 'complex',\n",
              " 'scab',\n",
              " 'healthy',\n",
              " 'scab',\n",
              " 'healthy',\n",
              " 'frog_eye_leaf_spot',\n",
              " 'scab',\n",
              " 'scab',\n",
              " 'complex rust',\n",
              " 'healthy',\n",
              " 'healthy',\n",
              " 'scab']"
            ]
          },
          "metadata": {},
          "execution_count": 68
        }
      ],
      "source": [
        "pred_labels[0:20]"
      ]
    },
    {
      "cell_type": "markdown",
      "id": "9c89a1e9-bdac-4c18-83ba-b3fa4297fcf1",
      "metadata": {
        "id": "9c89a1e9-bdac-4c18-83ba-b3fa4297fcf1"
      },
      "source": [
        "# <font color ='pickle'> Kaggle Submission"
      ]
    },
    {
      "cell_type": "code",
      "execution_count": 73,
      "id": "9b3fd924-5b82-4b05-b04d-7007aadb14ae",
      "metadata": {
        "execution": {
          "iopub.execute_input": "2022-11-13T15:56:03.173041Z",
          "iopub.status.busy": "2022-11-13T15:56:03.172834Z",
          "iopub.status.idle": "2022-11-13T15:56:03.197414Z",
          "shell.execute_reply": "2022-11-13T15:56:03.196875Z",
          "shell.execute_reply.started": "2022-11-13T15:56:03.173028Z"
        },
        "id": "9b3fd924-5b82-4b05-b04d-7007aadb14ae",
        "tags": []
      },
      "outputs": [],
      "source": [
        "final_submission= pd.read_csv(data_folder/'sample_submission.csv')\n"
      ]
    },
    {
      "cell_type": "code",
      "source": [
        "final_submission"
      ],
      "metadata": {
        "colab": {
          "base_uri": "https://localhost:8080/",
          "height": 423
        },
        "id": "iQqQV-tUQshf",
        "outputId": "0230a4d2-edfb-4694-b8e3-2868649f55d8"
      },
      "id": "iQqQV-tUQshf",
      "execution_count": 74,
      "outputs": [
        {
          "output_type": "execute_result",
          "data": {
            "text/plain": [
              "                    image   labels\n",
              "0        test_image_1.jpg  healthy\n",
              "1        test_image_2.jpg  healthy\n",
              "2        test_image_3.jpg  healthy\n",
              "3        test_image_4.jpg  healthy\n",
              "4        test_image_5.jpg  healthy\n",
              "...                   ...      ...\n",
              "5585  test_image_5586.jpg  healthy\n",
              "5586  test_image_5587.jpg  healthy\n",
              "5587  test_image_5588.jpg  healthy\n",
              "5588  test_image_5589.jpg  healthy\n",
              "5589  test_image_5590.jpg  healthy\n",
              "\n",
              "[5590 rows x 2 columns]"
            ],
            "text/html": [
              "\n",
              "  <div id=\"df-c3eeadb3-9700-4295-b746-374b57a4fad2\" class=\"colab-df-container\">\n",
              "    <div>\n",
              "<style scoped>\n",
              "    .dataframe tbody tr th:only-of-type {\n",
              "        vertical-align: middle;\n",
              "    }\n",
              "\n",
              "    .dataframe tbody tr th {\n",
              "        vertical-align: top;\n",
              "    }\n",
              "\n",
              "    .dataframe thead th {\n",
              "        text-align: right;\n",
              "    }\n",
              "</style>\n",
              "<table border=\"1\" class=\"dataframe\">\n",
              "  <thead>\n",
              "    <tr style=\"text-align: right;\">\n",
              "      <th></th>\n",
              "      <th>image</th>\n",
              "      <th>labels</th>\n",
              "    </tr>\n",
              "  </thead>\n",
              "  <tbody>\n",
              "    <tr>\n",
              "      <th>0</th>\n",
              "      <td>test_image_1.jpg</td>\n",
              "      <td>healthy</td>\n",
              "    </tr>\n",
              "    <tr>\n",
              "      <th>1</th>\n",
              "      <td>test_image_2.jpg</td>\n",
              "      <td>healthy</td>\n",
              "    </tr>\n",
              "    <tr>\n",
              "      <th>2</th>\n",
              "      <td>test_image_3.jpg</td>\n",
              "      <td>healthy</td>\n",
              "    </tr>\n",
              "    <tr>\n",
              "      <th>3</th>\n",
              "      <td>test_image_4.jpg</td>\n",
              "      <td>healthy</td>\n",
              "    </tr>\n",
              "    <tr>\n",
              "      <th>4</th>\n",
              "      <td>test_image_5.jpg</td>\n",
              "      <td>healthy</td>\n",
              "    </tr>\n",
              "    <tr>\n",
              "      <th>...</th>\n",
              "      <td>...</td>\n",
              "      <td>...</td>\n",
              "    </tr>\n",
              "    <tr>\n",
              "      <th>5585</th>\n",
              "      <td>test_image_5586.jpg</td>\n",
              "      <td>healthy</td>\n",
              "    </tr>\n",
              "    <tr>\n",
              "      <th>5586</th>\n",
              "      <td>test_image_5587.jpg</td>\n",
              "      <td>healthy</td>\n",
              "    </tr>\n",
              "    <tr>\n",
              "      <th>5587</th>\n",
              "      <td>test_image_5588.jpg</td>\n",
              "      <td>healthy</td>\n",
              "    </tr>\n",
              "    <tr>\n",
              "      <th>5588</th>\n",
              "      <td>test_image_5589.jpg</td>\n",
              "      <td>healthy</td>\n",
              "    </tr>\n",
              "    <tr>\n",
              "      <th>5589</th>\n",
              "      <td>test_image_5590.jpg</td>\n",
              "      <td>healthy</td>\n",
              "    </tr>\n",
              "  </tbody>\n",
              "</table>\n",
              "<p>5590 rows × 2 columns</p>\n",
              "</div>\n",
              "    <div class=\"colab-df-buttons\">\n",
              "\n",
              "  <div class=\"colab-df-container\">\n",
              "    <button class=\"colab-df-convert\" onclick=\"convertToInteractive('df-c3eeadb3-9700-4295-b746-374b57a4fad2')\"\n",
              "            title=\"Convert this dataframe to an interactive table.\"\n",
              "            style=\"display:none;\">\n",
              "\n",
              "  <svg xmlns=\"http://www.w3.org/2000/svg\" height=\"24px\" viewBox=\"0 -960 960 960\">\n",
              "    <path d=\"M120-120v-720h720v720H120Zm60-500h600v-160H180v160Zm220 220h160v-160H400v160Zm0 220h160v-160H400v160ZM180-400h160v-160H180v160Zm440 0h160v-160H620v160ZM180-180h160v-160H180v160Zm440 0h160v-160H620v160Z\"/>\n",
              "  </svg>\n",
              "    </button>\n",
              "\n",
              "  <style>\n",
              "    .colab-df-container {\n",
              "      display:flex;\n",
              "      gap: 12px;\n",
              "    }\n",
              "\n",
              "    .colab-df-convert {\n",
              "      background-color: #E8F0FE;\n",
              "      border: none;\n",
              "      border-radius: 50%;\n",
              "      cursor: pointer;\n",
              "      display: none;\n",
              "      fill: #1967D2;\n",
              "      height: 32px;\n",
              "      padding: 0 0 0 0;\n",
              "      width: 32px;\n",
              "    }\n",
              "\n",
              "    .colab-df-convert:hover {\n",
              "      background-color: #E2EBFA;\n",
              "      box-shadow: 0px 1px 2px rgba(60, 64, 67, 0.3), 0px 1px 3px 1px rgba(60, 64, 67, 0.15);\n",
              "      fill: #174EA6;\n",
              "    }\n",
              "\n",
              "    .colab-df-buttons div {\n",
              "      margin-bottom: 4px;\n",
              "    }\n",
              "\n",
              "    [theme=dark] .colab-df-convert {\n",
              "      background-color: #3B4455;\n",
              "      fill: #D2E3FC;\n",
              "    }\n",
              "\n",
              "    [theme=dark] .colab-df-convert:hover {\n",
              "      background-color: #434B5C;\n",
              "      box-shadow: 0px 1px 3px 1px rgba(0, 0, 0, 0.15);\n",
              "      filter: drop-shadow(0px 1px 2px rgba(0, 0, 0, 0.3));\n",
              "      fill: #FFFFFF;\n",
              "    }\n",
              "  </style>\n",
              "\n",
              "    <script>\n",
              "      const buttonEl =\n",
              "        document.querySelector('#df-c3eeadb3-9700-4295-b746-374b57a4fad2 button.colab-df-convert');\n",
              "      buttonEl.style.display =\n",
              "        google.colab.kernel.accessAllowed ? 'block' : 'none';\n",
              "\n",
              "      async function convertToInteractive(key) {\n",
              "        const element = document.querySelector('#df-c3eeadb3-9700-4295-b746-374b57a4fad2');\n",
              "        const dataTable =\n",
              "          await google.colab.kernel.invokeFunction('convertToInteractive',\n",
              "                                                    [key], {});\n",
              "        if (!dataTable) return;\n",
              "\n",
              "        const docLinkHtml = 'Like what you see? Visit the ' +\n",
              "          '<a target=\"_blank\" href=https://colab.research.google.com/notebooks/data_table.ipynb>data table notebook</a>'\n",
              "          + ' to learn more about interactive tables.';\n",
              "        element.innerHTML = '';\n",
              "        dataTable['output_type'] = 'display_data';\n",
              "        await google.colab.output.renderOutput(dataTable, element);\n",
              "        const docLink = document.createElement('div');\n",
              "        docLink.innerHTML = docLinkHtml;\n",
              "        element.appendChild(docLink);\n",
              "      }\n",
              "    </script>\n",
              "  </div>\n",
              "\n",
              "\n",
              "<div id=\"df-e6a31292-ffef-42bd-b3b1-2395c577c93e\">\n",
              "  <button class=\"colab-df-quickchart\" onclick=\"quickchart('df-e6a31292-ffef-42bd-b3b1-2395c577c93e')\"\n",
              "            title=\"Suggest charts\"\n",
              "            style=\"display:none;\">\n",
              "\n",
              "<svg xmlns=\"http://www.w3.org/2000/svg\" height=\"24px\"viewBox=\"0 0 24 24\"\n",
              "     width=\"24px\">\n",
              "    <g>\n",
              "        <path d=\"M19 3H5c-1.1 0-2 .9-2 2v14c0 1.1.9 2 2 2h14c1.1 0 2-.9 2-2V5c0-1.1-.9-2-2-2zM9 17H7v-7h2v7zm4 0h-2V7h2v10zm4 0h-2v-4h2v4z\"/>\n",
              "    </g>\n",
              "</svg>\n",
              "  </button>\n",
              "\n",
              "<style>\n",
              "  .colab-df-quickchart {\n",
              "      --bg-color: #E8F0FE;\n",
              "      --fill-color: #1967D2;\n",
              "      --hover-bg-color: #E2EBFA;\n",
              "      --hover-fill-color: #174EA6;\n",
              "      --disabled-fill-color: #AAA;\n",
              "      --disabled-bg-color: #DDD;\n",
              "  }\n",
              "\n",
              "  [theme=dark] .colab-df-quickchart {\n",
              "      --bg-color: #3B4455;\n",
              "      --fill-color: #D2E3FC;\n",
              "      --hover-bg-color: #434B5C;\n",
              "      --hover-fill-color: #FFFFFF;\n",
              "      --disabled-bg-color: #3B4455;\n",
              "      --disabled-fill-color: #666;\n",
              "  }\n",
              "\n",
              "  .colab-df-quickchart {\n",
              "    background-color: var(--bg-color);\n",
              "    border: none;\n",
              "    border-radius: 50%;\n",
              "    cursor: pointer;\n",
              "    display: none;\n",
              "    fill: var(--fill-color);\n",
              "    height: 32px;\n",
              "    padding: 0;\n",
              "    width: 32px;\n",
              "  }\n",
              "\n",
              "  .colab-df-quickchart:hover {\n",
              "    background-color: var(--hover-bg-color);\n",
              "    box-shadow: 0 1px 2px rgba(60, 64, 67, 0.3), 0 1px 3px 1px rgba(60, 64, 67, 0.15);\n",
              "    fill: var(--button-hover-fill-color);\n",
              "  }\n",
              "\n",
              "  .colab-df-quickchart-complete:disabled,\n",
              "  .colab-df-quickchart-complete:disabled:hover {\n",
              "    background-color: var(--disabled-bg-color);\n",
              "    fill: var(--disabled-fill-color);\n",
              "    box-shadow: none;\n",
              "  }\n",
              "\n",
              "  .colab-df-spinner {\n",
              "    border: 2px solid var(--fill-color);\n",
              "    border-color: transparent;\n",
              "    border-bottom-color: var(--fill-color);\n",
              "    animation:\n",
              "      spin 1s steps(1) infinite;\n",
              "  }\n",
              "\n",
              "  @keyframes spin {\n",
              "    0% {\n",
              "      border-color: transparent;\n",
              "      border-bottom-color: var(--fill-color);\n",
              "      border-left-color: var(--fill-color);\n",
              "    }\n",
              "    20% {\n",
              "      border-color: transparent;\n",
              "      border-left-color: var(--fill-color);\n",
              "      border-top-color: var(--fill-color);\n",
              "    }\n",
              "    30% {\n",
              "      border-color: transparent;\n",
              "      border-left-color: var(--fill-color);\n",
              "      border-top-color: var(--fill-color);\n",
              "      border-right-color: var(--fill-color);\n",
              "    }\n",
              "    40% {\n",
              "      border-color: transparent;\n",
              "      border-right-color: var(--fill-color);\n",
              "      border-top-color: var(--fill-color);\n",
              "    }\n",
              "    60% {\n",
              "      border-color: transparent;\n",
              "      border-right-color: var(--fill-color);\n",
              "    }\n",
              "    80% {\n",
              "      border-color: transparent;\n",
              "      border-right-color: var(--fill-color);\n",
              "      border-bottom-color: var(--fill-color);\n",
              "    }\n",
              "    90% {\n",
              "      border-color: transparent;\n",
              "      border-bottom-color: var(--fill-color);\n",
              "    }\n",
              "  }\n",
              "</style>\n",
              "\n",
              "  <script>\n",
              "    async function quickchart(key) {\n",
              "      const quickchartButtonEl =\n",
              "        document.querySelector('#' + key + ' button');\n",
              "      quickchartButtonEl.disabled = true;  // To prevent multiple clicks.\n",
              "      quickchartButtonEl.classList.add('colab-df-spinner');\n",
              "      try {\n",
              "        const charts = await google.colab.kernel.invokeFunction(\n",
              "            'suggestCharts', [key], {});\n",
              "      } catch (error) {\n",
              "        console.error('Error during call to suggestCharts:', error);\n",
              "      }\n",
              "      quickchartButtonEl.classList.remove('colab-df-spinner');\n",
              "      quickchartButtonEl.classList.add('colab-df-quickchart-complete');\n",
              "    }\n",
              "    (() => {\n",
              "      let quickchartButtonEl =\n",
              "        document.querySelector('#df-e6a31292-ffef-42bd-b3b1-2395c577c93e button');\n",
              "      quickchartButtonEl.style.display =\n",
              "        google.colab.kernel.accessAllowed ? 'block' : 'none';\n",
              "    })();\n",
              "  </script>\n",
              "</div>\n",
              "\n",
              "  <div id=\"id_adf5509c-6881-4c9a-8825-95595103720d\">\n",
              "    <style>\n",
              "      .colab-df-generate {\n",
              "        background-color: #E8F0FE;\n",
              "        border: none;\n",
              "        border-radius: 50%;\n",
              "        cursor: pointer;\n",
              "        display: none;\n",
              "        fill: #1967D2;\n",
              "        height: 32px;\n",
              "        padding: 0 0 0 0;\n",
              "        width: 32px;\n",
              "      }\n",
              "\n",
              "      .colab-df-generate:hover {\n",
              "        background-color: #E2EBFA;\n",
              "        box-shadow: 0px 1px 2px rgba(60, 64, 67, 0.3), 0px 1px 3px 1px rgba(60, 64, 67, 0.15);\n",
              "        fill: #174EA6;\n",
              "      }\n",
              "\n",
              "      [theme=dark] .colab-df-generate {\n",
              "        background-color: #3B4455;\n",
              "        fill: #D2E3FC;\n",
              "      }\n",
              "\n",
              "      [theme=dark] .colab-df-generate:hover {\n",
              "        background-color: #434B5C;\n",
              "        box-shadow: 0px 1px 3px 1px rgba(0, 0, 0, 0.15);\n",
              "        filter: drop-shadow(0px 1px 2px rgba(0, 0, 0, 0.3));\n",
              "        fill: #FFFFFF;\n",
              "      }\n",
              "    </style>\n",
              "    <button class=\"colab-df-generate\" onclick=\"generateWithVariable('final_submission')\"\n",
              "            title=\"Generate code using this dataframe.\"\n",
              "            style=\"display:none;\">\n",
              "\n",
              "  <svg xmlns=\"http://www.w3.org/2000/svg\" height=\"24px\"viewBox=\"0 0 24 24\"\n",
              "       width=\"24px\">\n",
              "    <path d=\"M7,19H8.4L18.45,9,17,7.55,7,17.6ZM5,21V16.75L18.45,3.32a2,2,0,0,1,2.83,0l1.4,1.43a1.91,1.91,0,0,1,.58,1.4,1.91,1.91,0,0,1-.58,1.4L9.25,21ZM18.45,9,17,7.55Zm-12,3A5.31,5.31,0,0,0,4.9,8.1,5.31,5.31,0,0,0,1,6.5,5.31,5.31,0,0,0,4.9,4.9,5.31,5.31,0,0,0,6.5,1,5.31,5.31,0,0,0,8.1,4.9,5.31,5.31,0,0,0,12,6.5,5.46,5.46,0,0,0,6.5,12Z\"/>\n",
              "  </svg>\n",
              "    </button>\n",
              "    <script>\n",
              "      (() => {\n",
              "      const buttonEl =\n",
              "        document.querySelector('#id_adf5509c-6881-4c9a-8825-95595103720d button.colab-df-generate');\n",
              "      buttonEl.style.display =\n",
              "        google.colab.kernel.accessAllowed ? 'block' : 'none';\n",
              "\n",
              "      buttonEl.onclick = () => {\n",
              "        google.colab.notebook.generateWithVariable('final_submission');\n",
              "      }\n",
              "      })();\n",
              "    </script>\n",
              "  </div>\n",
              "\n",
              "    </div>\n",
              "  </div>\n"
            ]
          },
          "metadata": {},
          "execution_count": 74
        }
      ]
    },
    {
      "cell_type": "code",
      "source": [
        "final_submission = final_submission.sort_values(by = 'image')\n"
      ],
      "metadata": {
        "id": "A_zJ_4U7O5eY"
      },
      "id": "A_zJ_4U7O5eY",
      "execution_count": 75,
      "outputs": []
    },
    {
      "cell_type": "code",
      "execution_count": 76,
      "id": "3a1a4aa8-d436-4d83-bc28-fbaef579532e",
      "metadata": {
        "execution": {
          "iopub.execute_input": "2022-11-13T15:56:03.846803Z",
          "iopub.status.busy": "2022-11-13T15:56:03.846384Z",
          "iopub.status.idle": "2022-11-13T15:56:03.871708Z",
          "shell.execute_reply": "2022-11-13T15:56:03.871057Z",
          "shell.execute_reply.started": "2022-11-13T15:56:03.846786Z"
        },
        "id": "3a1a4aa8-d436-4d83-bc28-fbaef579532e",
        "outputId": "325bfb4a-1015-47cd-f007-dbb3ebc1b0d8",
        "tags": [],
        "colab": {
          "base_uri": "https://localhost:8080/",
          "height": 423
        }
      },
      "outputs": [
        {
          "output_type": "execute_result",
          "data": {
            "text/plain": [
              "                    image   labels\n",
              "0        test_image_1.jpg  healthy\n",
              "9       test_image_10.jpg  healthy\n",
              "99     test_image_100.jpg  healthy\n",
              "999   test_image_1000.jpg  healthy\n",
              "1000  test_image_1001.jpg  healthy\n",
              "...                   ...      ...\n",
              "994    test_image_995.jpg  healthy\n",
              "995    test_image_996.jpg  healthy\n",
              "996    test_image_997.jpg  healthy\n",
              "997    test_image_998.jpg  healthy\n",
              "998    test_image_999.jpg  healthy\n",
              "\n",
              "[5590 rows x 2 columns]"
            ],
            "text/html": [
              "\n",
              "  <div id=\"df-8048a604-7272-4e7e-a9b9-838b61a2ce07\" class=\"colab-df-container\">\n",
              "    <div>\n",
              "<style scoped>\n",
              "    .dataframe tbody tr th:only-of-type {\n",
              "        vertical-align: middle;\n",
              "    }\n",
              "\n",
              "    .dataframe tbody tr th {\n",
              "        vertical-align: top;\n",
              "    }\n",
              "\n",
              "    .dataframe thead th {\n",
              "        text-align: right;\n",
              "    }\n",
              "</style>\n",
              "<table border=\"1\" class=\"dataframe\">\n",
              "  <thead>\n",
              "    <tr style=\"text-align: right;\">\n",
              "      <th></th>\n",
              "      <th>image</th>\n",
              "      <th>labels</th>\n",
              "    </tr>\n",
              "  </thead>\n",
              "  <tbody>\n",
              "    <tr>\n",
              "      <th>0</th>\n",
              "      <td>test_image_1.jpg</td>\n",
              "      <td>healthy</td>\n",
              "    </tr>\n",
              "    <tr>\n",
              "      <th>9</th>\n",
              "      <td>test_image_10.jpg</td>\n",
              "      <td>healthy</td>\n",
              "    </tr>\n",
              "    <tr>\n",
              "      <th>99</th>\n",
              "      <td>test_image_100.jpg</td>\n",
              "      <td>healthy</td>\n",
              "    </tr>\n",
              "    <tr>\n",
              "      <th>999</th>\n",
              "      <td>test_image_1000.jpg</td>\n",
              "      <td>healthy</td>\n",
              "    </tr>\n",
              "    <tr>\n",
              "      <th>1000</th>\n",
              "      <td>test_image_1001.jpg</td>\n",
              "      <td>healthy</td>\n",
              "    </tr>\n",
              "    <tr>\n",
              "      <th>...</th>\n",
              "      <td>...</td>\n",
              "      <td>...</td>\n",
              "    </tr>\n",
              "    <tr>\n",
              "      <th>994</th>\n",
              "      <td>test_image_995.jpg</td>\n",
              "      <td>healthy</td>\n",
              "    </tr>\n",
              "    <tr>\n",
              "      <th>995</th>\n",
              "      <td>test_image_996.jpg</td>\n",
              "      <td>healthy</td>\n",
              "    </tr>\n",
              "    <tr>\n",
              "      <th>996</th>\n",
              "      <td>test_image_997.jpg</td>\n",
              "      <td>healthy</td>\n",
              "    </tr>\n",
              "    <tr>\n",
              "      <th>997</th>\n",
              "      <td>test_image_998.jpg</td>\n",
              "      <td>healthy</td>\n",
              "    </tr>\n",
              "    <tr>\n",
              "      <th>998</th>\n",
              "      <td>test_image_999.jpg</td>\n",
              "      <td>healthy</td>\n",
              "    </tr>\n",
              "  </tbody>\n",
              "</table>\n",
              "<p>5590 rows × 2 columns</p>\n",
              "</div>\n",
              "    <div class=\"colab-df-buttons\">\n",
              "\n",
              "  <div class=\"colab-df-container\">\n",
              "    <button class=\"colab-df-convert\" onclick=\"convertToInteractive('df-8048a604-7272-4e7e-a9b9-838b61a2ce07')\"\n",
              "            title=\"Convert this dataframe to an interactive table.\"\n",
              "            style=\"display:none;\">\n",
              "\n",
              "  <svg xmlns=\"http://www.w3.org/2000/svg\" height=\"24px\" viewBox=\"0 -960 960 960\">\n",
              "    <path d=\"M120-120v-720h720v720H120Zm60-500h600v-160H180v160Zm220 220h160v-160H400v160Zm0 220h160v-160H400v160ZM180-400h160v-160H180v160Zm440 0h160v-160H620v160ZM180-180h160v-160H180v160Zm440 0h160v-160H620v160Z\"/>\n",
              "  </svg>\n",
              "    </button>\n",
              "\n",
              "  <style>\n",
              "    .colab-df-container {\n",
              "      display:flex;\n",
              "      gap: 12px;\n",
              "    }\n",
              "\n",
              "    .colab-df-convert {\n",
              "      background-color: #E8F0FE;\n",
              "      border: none;\n",
              "      border-radius: 50%;\n",
              "      cursor: pointer;\n",
              "      display: none;\n",
              "      fill: #1967D2;\n",
              "      height: 32px;\n",
              "      padding: 0 0 0 0;\n",
              "      width: 32px;\n",
              "    }\n",
              "\n",
              "    .colab-df-convert:hover {\n",
              "      background-color: #E2EBFA;\n",
              "      box-shadow: 0px 1px 2px rgba(60, 64, 67, 0.3), 0px 1px 3px 1px rgba(60, 64, 67, 0.15);\n",
              "      fill: #174EA6;\n",
              "    }\n",
              "\n",
              "    .colab-df-buttons div {\n",
              "      margin-bottom: 4px;\n",
              "    }\n",
              "\n",
              "    [theme=dark] .colab-df-convert {\n",
              "      background-color: #3B4455;\n",
              "      fill: #D2E3FC;\n",
              "    }\n",
              "\n",
              "    [theme=dark] .colab-df-convert:hover {\n",
              "      background-color: #434B5C;\n",
              "      box-shadow: 0px 1px 3px 1px rgba(0, 0, 0, 0.15);\n",
              "      filter: drop-shadow(0px 1px 2px rgba(0, 0, 0, 0.3));\n",
              "      fill: #FFFFFF;\n",
              "    }\n",
              "  </style>\n",
              "\n",
              "    <script>\n",
              "      const buttonEl =\n",
              "        document.querySelector('#df-8048a604-7272-4e7e-a9b9-838b61a2ce07 button.colab-df-convert');\n",
              "      buttonEl.style.display =\n",
              "        google.colab.kernel.accessAllowed ? 'block' : 'none';\n",
              "\n",
              "      async function convertToInteractive(key) {\n",
              "        const element = document.querySelector('#df-8048a604-7272-4e7e-a9b9-838b61a2ce07');\n",
              "        const dataTable =\n",
              "          await google.colab.kernel.invokeFunction('convertToInteractive',\n",
              "                                                    [key], {});\n",
              "        if (!dataTable) return;\n",
              "\n",
              "        const docLinkHtml = 'Like what you see? Visit the ' +\n",
              "          '<a target=\"_blank\" href=https://colab.research.google.com/notebooks/data_table.ipynb>data table notebook</a>'\n",
              "          + ' to learn more about interactive tables.';\n",
              "        element.innerHTML = '';\n",
              "        dataTable['output_type'] = 'display_data';\n",
              "        await google.colab.output.renderOutput(dataTable, element);\n",
              "        const docLink = document.createElement('div');\n",
              "        docLink.innerHTML = docLinkHtml;\n",
              "        element.appendChild(docLink);\n",
              "      }\n",
              "    </script>\n",
              "  </div>\n",
              "\n",
              "\n",
              "<div id=\"df-69229459-2b8d-4985-96ce-252b074ce11e\">\n",
              "  <button class=\"colab-df-quickchart\" onclick=\"quickchart('df-69229459-2b8d-4985-96ce-252b074ce11e')\"\n",
              "            title=\"Suggest charts\"\n",
              "            style=\"display:none;\">\n",
              "\n",
              "<svg xmlns=\"http://www.w3.org/2000/svg\" height=\"24px\"viewBox=\"0 0 24 24\"\n",
              "     width=\"24px\">\n",
              "    <g>\n",
              "        <path d=\"M19 3H5c-1.1 0-2 .9-2 2v14c0 1.1.9 2 2 2h14c1.1 0 2-.9 2-2V5c0-1.1-.9-2-2-2zM9 17H7v-7h2v7zm4 0h-2V7h2v10zm4 0h-2v-4h2v4z\"/>\n",
              "    </g>\n",
              "</svg>\n",
              "  </button>\n",
              "\n",
              "<style>\n",
              "  .colab-df-quickchart {\n",
              "      --bg-color: #E8F0FE;\n",
              "      --fill-color: #1967D2;\n",
              "      --hover-bg-color: #E2EBFA;\n",
              "      --hover-fill-color: #174EA6;\n",
              "      --disabled-fill-color: #AAA;\n",
              "      --disabled-bg-color: #DDD;\n",
              "  }\n",
              "\n",
              "  [theme=dark] .colab-df-quickchart {\n",
              "      --bg-color: #3B4455;\n",
              "      --fill-color: #D2E3FC;\n",
              "      --hover-bg-color: #434B5C;\n",
              "      --hover-fill-color: #FFFFFF;\n",
              "      --disabled-bg-color: #3B4455;\n",
              "      --disabled-fill-color: #666;\n",
              "  }\n",
              "\n",
              "  .colab-df-quickchart {\n",
              "    background-color: var(--bg-color);\n",
              "    border: none;\n",
              "    border-radius: 50%;\n",
              "    cursor: pointer;\n",
              "    display: none;\n",
              "    fill: var(--fill-color);\n",
              "    height: 32px;\n",
              "    padding: 0;\n",
              "    width: 32px;\n",
              "  }\n",
              "\n",
              "  .colab-df-quickchart:hover {\n",
              "    background-color: var(--hover-bg-color);\n",
              "    box-shadow: 0 1px 2px rgba(60, 64, 67, 0.3), 0 1px 3px 1px rgba(60, 64, 67, 0.15);\n",
              "    fill: var(--button-hover-fill-color);\n",
              "  }\n",
              "\n",
              "  .colab-df-quickchart-complete:disabled,\n",
              "  .colab-df-quickchart-complete:disabled:hover {\n",
              "    background-color: var(--disabled-bg-color);\n",
              "    fill: var(--disabled-fill-color);\n",
              "    box-shadow: none;\n",
              "  }\n",
              "\n",
              "  .colab-df-spinner {\n",
              "    border: 2px solid var(--fill-color);\n",
              "    border-color: transparent;\n",
              "    border-bottom-color: var(--fill-color);\n",
              "    animation:\n",
              "      spin 1s steps(1) infinite;\n",
              "  }\n",
              "\n",
              "  @keyframes spin {\n",
              "    0% {\n",
              "      border-color: transparent;\n",
              "      border-bottom-color: var(--fill-color);\n",
              "      border-left-color: var(--fill-color);\n",
              "    }\n",
              "    20% {\n",
              "      border-color: transparent;\n",
              "      border-left-color: var(--fill-color);\n",
              "      border-top-color: var(--fill-color);\n",
              "    }\n",
              "    30% {\n",
              "      border-color: transparent;\n",
              "      border-left-color: var(--fill-color);\n",
              "      border-top-color: var(--fill-color);\n",
              "      border-right-color: var(--fill-color);\n",
              "    }\n",
              "    40% {\n",
              "      border-color: transparent;\n",
              "      border-right-color: var(--fill-color);\n",
              "      border-top-color: var(--fill-color);\n",
              "    }\n",
              "    60% {\n",
              "      border-color: transparent;\n",
              "      border-right-color: var(--fill-color);\n",
              "    }\n",
              "    80% {\n",
              "      border-color: transparent;\n",
              "      border-right-color: var(--fill-color);\n",
              "      border-bottom-color: var(--fill-color);\n",
              "    }\n",
              "    90% {\n",
              "      border-color: transparent;\n",
              "      border-bottom-color: var(--fill-color);\n",
              "    }\n",
              "  }\n",
              "</style>\n",
              "\n",
              "  <script>\n",
              "    async function quickchart(key) {\n",
              "      const quickchartButtonEl =\n",
              "        document.querySelector('#' + key + ' button');\n",
              "      quickchartButtonEl.disabled = true;  // To prevent multiple clicks.\n",
              "      quickchartButtonEl.classList.add('colab-df-spinner');\n",
              "      try {\n",
              "        const charts = await google.colab.kernel.invokeFunction(\n",
              "            'suggestCharts', [key], {});\n",
              "      } catch (error) {\n",
              "        console.error('Error during call to suggestCharts:', error);\n",
              "      }\n",
              "      quickchartButtonEl.classList.remove('colab-df-spinner');\n",
              "      quickchartButtonEl.classList.add('colab-df-quickchart-complete');\n",
              "    }\n",
              "    (() => {\n",
              "      let quickchartButtonEl =\n",
              "        document.querySelector('#df-69229459-2b8d-4985-96ce-252b074ce11e button');\n",
              "      quickchartButtonEl.style.display =\n",
              "        google.colab.kernel.accessAllowed ? 'block' : 'none';\n",
              "    })();\n",
              "  </script>\n",
              "</div>\n",
              "\n",
              "  <div id=\"id_38b30573-ff88-4966-ae30-dc4f5969d51b\">\n",
              "    <style>\n",
              "      .colab-df-generate {\n",
              "        background-color: #E8F0FE;\n",
              "        border: none;\n",
              "        border-radius: 50%;\n",
              "        cursor: pointer;\n",
              "        display: none;\n",
              "        fill: #1967D2;\n",
              "        height: 32px;\n",
              "        padding: 0 0 0 0;\n",
              "        width: 32px;\n",
              "      }\n",
              "\n",
              "      .colab-df-generate:hover {\n",
              "        background-color: #E2EBFA;\n",
              "        box-shadow: 0px 1px 2px rgba(60, 64, 67, 0.3), 0px 1px 3px 1px rgba(60, 64, 67, 0.15);\n",
              "        fill: #174EA6;\n",
              "      }\n",
              "\n",
              "      [theme=dark] .colab-df-generate {\n",
              "        background-color: #3B4455;\n",
              "        fill: #D2E3FC;\n",
              "      }\n",
              "\n",
              "      [theme=dark] .colab-df-generate:hover {\n",
              "        background-color: #434B5C;\n",
              "        box-shadow: 0px 1px 3px 1px rgba(0, 0, 0, 0.15);\n",
              "        filter: drop-shadow(0px 1px 2px rgba(0, 0, 0, 0.3));\n",
              "        fill: #FFFFFF;\n",
              "      }\n",
              "    </style>\n",
              "    <button class=\"colab-df-generate\" onclick=\"generateWithVariable('final_submission')\"\n",
              "            title=\"Generate code using this dataframe.\"\n",
              "            style=\"display:none;\">\n",
              "\n",
              "  <svg xmlns=\"http://www.w3.org/2000/svg\" height=\"24px\"viewBox=\"0 0 24 24\"\n",
              "       width=\"24px\">\n",
              "    <path d=\"M7,19H8.4L18.45,9,17,7.55,7,17.6ZM5,21V16.75L18.45,3.32a2,2,0,0,1,2.83,0l1.4,1.43a1.91,1.91,0,0,1,.58,1.4,1.91,1.91,0,0,1-.58,1.4L9.25,21ZM18.45,9,17,7.55Zm-12,3A5.31,5.31,0,0,0,4.9,8.1,5.31,5.31,0,0,0,1,6.5,5.31,5.31,0,0,0,4.9,4.9,5.31,5.31,0,0,0,6.5,1,5.31,5.31,0,0,0,8.1,4.9,5.31,5.31,0,0,0,12,6.5,5.46,5.46,0,0,0,6.5,12Z\"/>\n",
              "  </svg>\n",
              "    </button>\n",
              "    <script>\n",
              "      (() => {\n",
              "      const buttonEl =\n",
              "        document.querySelector('#id_38b30573-ff88-4966-ae30-dc4f5969d51b button.colab-df-generate');\n",
              "      buttonEl.style.display =\n",
              "        google.colab.kernel.accessAllowed ? 'block' : 'none';\n",
              "\n",
              "      buttonEl.onclick = () => {\n",
              "        google.colab.notebook.generateWithVariable('final_submission');\n",
              "      }\n",
              "      })();\n",
              "    </script>\n",
              "  </div>\n",
              "\n",
              "    </div>\n",
              "  </div>\n"
            ]
          },
          "metadata": {},
          "execution_count": 76
        }
      ],
      "source": [
        "final_submission"
      ]
    },
    {
      "cell_type": "code",
      "execution_count": 77,
      "id": "6fe80f19-60d4-49da-8254-1a7444128670",
      "metadata": {
        "execution": {
          "iopub.execute_input": "2022-11-13T15:56:06.724515Z",
          "iopub.status.busy": "2022-11-13T15:56:06.724303Z",
          "iopub.status.idle": "2022-11-13T15:56:06.747949Z",
          "shell.execute_reply": "2022-11-13T15:56:06.747546Z",
          "shell.execute_reply.started": "2022-11-13T15:56:06.724501Z"
        },
        "id": "6fe80f19-60d4-49da-8254-1a7444128670",
        "tags": []
      },
      "outputs": [],
      "source": [
        "final_submission['labels'] = pred_labels"
      ]
    },
    {
      "cell_type": "code",
      "execution_count": 78,
      "id": "bef6c7eb-01d1-4163-89f7-096e48940d41",
      "metadata": {
        "execution": {
          "iopub.execute_input": "2022-11-13T15:56:07.323621Z",
          "iopub.status.busy": "2022-11-13T15:56:07.323334Z",
          "iopub.status.idle": "2022-11-13T15:56:07.348383Z",
          "shell.execute_reply": "2022-11-13T15:56:07.347894Z",
          "shell.execute_reply.started": "2022-11-13T15:56:07.323607Z"
        },
        "id": "bef6c7eb-01d1-4163-89f7-096e48940d41",
        "outputId": "0ab2df8e-2f6e-41ff-c146-a0f727d3773f",
        "tags": [],
        "colab": {
          "base_uri": "https://localhost:8080/",
          "height": 423
        }
      },
      "outputs": [
        {
          "output_type": "execute_result",
          "data": {
            "text/plain": [
              "                    image              labels\n",
              "0        test_image_1.jpg             healthy\n",
              "9       test_image_10.jpg             complex\n",
              "99     test_image_100.jpg  frog_eye_leaf_spot\n",
              "999   test_image_1000.jpg  frog_eye_leaf_spot\n",
              "1000  test_image_1001.jpg  frog_eye_leaf_spot\n",
              "...                   ...                 ...\n",
              "994    test_image_995.jpg      powdery_mildew\n",
              "995    test_image_996.jpg             healthy\n",
              "996    test_image_997.jpg             healthy\n",
              "997    test_image_998.jpg  frog_eye_leaf_spot\n",
              "998    test_image_999.jpg      powdery_mildew\n",
              "\n",
              "[5590 rows x 2 columns]"
            ],
            "text/html": [
              "\n",
              "  <div id=\"df-c94545b1-e492-4030-b3c4-1756b4a5e033\" class=\"colab-df-container\">\n",
              "    <div>\n",
              "<style scoped>\n",
              "    .dataframe tbody tr th:only-of-type {\n",
              "        vertical-align: middle;\n",
              "    }\n",
              "\n",
              "    .dataframe tbody tr th {\n",
              "        vertical-align: top;\n",
              "    }\n",
              "\n",
              "    .dataframe thead th {\n",
              "        text-align: right;\n",
              "    }\n",
              "</style>\n",
              "<table border=\"1\" class=\"dataframe\">\n",
              "  <thead>\n",
              "    <tr style=\"text-align: right;\">\n",
              "      <th></th>\n",
              "      <th>image</th>\n",
              "      <th>labels</th>\n",
              "    </tr>\n",
              "  </thead>\n",
              "  <tbody>\n",
              "    <tr>\n",
              "      <th>0</th>\n",
              "      <td>test_image_1.jpg</td>\n",
              "      <td>healthy</td>\n",
              "    </tr>\n",
              "    <tr>\n",
              "      <th>9</th>\n",
              "      <td>test_image_10.jpg</td>\n",
              "      <td>complex</td>\n",
              "    </tr>\n",
              "    <tr>\n",
              "      <th>99</th>\n",
              "      <td>test_image_100.jpg</td>\n",
              "      <td>frog_eye_leaf_spot</td>\n",
              "    </tr>\n",
              "    <tr>\n",
              "      <th>999</th>\n",
              "      <td>test_image_1000.jpg</td>\n",
              "      <td>frog_eye_leaf_spot</td>\n",
              "    </tr>\n",
              "    <tr>\n",
              "      <th>1000</th>\n",
              "      <td>test_image_1001.jpg</td>\n",
              "      <td>frog_eye_leaf_spot</td>\n",
              "    </tr>\n",
              "    <tr>\n",
              "      <th>...</th>\n",
              "      <td>...</td>\n",
              "      <td>...</td>\n",
              "    </tr>\n",
              "    <tr>\n",
              "      <th>994</th>\n",
              "      <td>test_image_995.jpg</td>\n",
              "      <td>powdery_mildew</td>\n",
              "    </tr>\n",
              "    <tr>\n",
              "      <th>995</th>\n",
              "      <td>test_image_996.jpg</td>\n",
              "      <td>healthy</td>\n",
              "    </tr>\n",
              "    <tr>\n",
              "      <th>996</th>\n",
              "      <td>test_image_997.jpg</td>\n",
              "      <td>healthy</td>\n",
              "    </tr>\n",
              "    <tr>\n",
              "      <th>997</th>\n",
              "      <td>test_image_998.jpg</td>\n",
              "      <td>frog_eye_leaf_spot</td>\n",
              "    </tr>\n",
              "    <tr>\n",
              "      <th>998</th>\n",
              "      <td>test_image_999.jpg</td>\n",
              "      <td>powdery_mildew</td>\n",
              "    </tr>\n",
              "  </tbody>\n",
              "</table>\n",
              "<p>5590 rows × 2 columns</p>\n",
              "</div>\n",
              "    <div class=\"colab-df-buttons\">\n",
              "\n",
              "  <div class=\"colab-df-container\">\n",
              "    <button class=\"colab-df-convert\" onclick=\"convertToInteractive('df-c94545b1-e492-4030-b3c4-1756b4a5e033')\"\n",
              "            title=\"Convert this dataframe to an interactive table.\"\n",
              "            style=\"display:none;\">\n",
              "\n",
              "  <svg xmlns=\"http://www.w3.org/2000/svg\" height=\"24px\" viewBox=\"0 -960 960 960\">\n",
              "    <path d=\"M120-120v-720h720v720H120Zm60-500h600v-160H180v160Zm220 220h160v-160H400v160Zm0 220h160v-160H400v160ZM180-400h160v-160H180v160Zm440 0h160v-160H620v160ZM180-180h160v-160H180v160Zm440 0h160v-160H620v160Z\"/>\n",
              "  </svg>\n",
              "    </button>\n",
              "\n",
              "  <style>\n",
              "    .colab-df-container {\n",
              "      display:flex;\n",
              "      gap: 12px;\n",
              "    }\n",
              "\n",
              "    .colab-df-convert {\n",
              "      background-color: #E8F0FE;\n",
              "      border: none;\n",
              "      border-radius: 50%;\n",
              "      cursor: pointer;\n",
              "      display: none;\n",
              "      fill: #1967D2;\n",
              "      height: 32px;\n",
              "      padding: 0 0 0 0;\n",
              "      width: 32px;\n",
              "    }\n",
              "\n",
              "    .colab-df-convert:hover {\n",
              "      background-color: #E2EBFA;\n",
              "      box-shadow: 0px 1px 2px rgba(60, 64, 67, 0.3), 0px 1px 3px 1px rgba(60, 64, 67, 0.15);\n",
              "      fill: #174EA6;\n",
              "    }\n",
              "\n",
              "    .colab-df-buttons div {\n",
              "      margin-bottom: 4px;\n",
              "    }\n",
              "\n",
              "    [theme=dark] .colab-df-convert {\n",
              "      background-color: #3B4455;\n",
              "      fill: #D2E3FC;\n",
              "    }\n",
              "\n",
              "    [theme=dark] .colab-df-convert:hover {\n",
              "      background-color: #434B5C;\n",
              "      box-shadow: 0px 1px 3px 1px rgba(0, 0, 0, 0.15);\n",
              "      filter: drop-shadow(0px 1px 2px rgba(0, 0, 0, 0.3));\n",
              "      fill: #FFFFFF;\n",
              "    }\n",
              "  </style>\n",
              "\n",
              "    <script>\n",
              "      const buttonEl =\n",
              "        document.querySelector('#df-c94545b1-e492-4030-b3c4-1756b4a5e033 button.colab-df-convert');\n",
              "      buttonEl.style.display =\n",
              "        google.colab.kernel.accessAllowed ? 'block' : 'none';\n",
              "\n",
              "      async function convertToInteractive(key) {\n",
              "        const element = document.querySelector('#df-c94545b1-e492-4030-b3c4-1756b4a5e033');\n",
              "        const dataTable =\n",
              "          await google.colab.kernel.invokeFunction('convertToInteractive',\n",
              "                                                    [key], {});\n",
              "        if (!dataTable) return;\n",
              "\n",
              "        const docLinkHtml = 'Like what you see? Visit the ' +\n",
              "          '<a target=\"_blank\" href=https://colab.research.google.com/notebooks/data_table.ipynb>data table notebook</a>'\n",
              "          + ' to learn more about interactive tables.';\n",
              "        element.innerHTML = '';\n",
              "        dataTable['output_type'] = 'display_data';\n",
              "        await google.colab.output.renderOutput(dataTable, element);\n",
              "        const docLink = document.createElement('div');\n",
              "        docLink.innerHTML = docLinkHtml;\n",
              "        element.appendChild(docLink);\n",
              "      }\n",
              "    </script>\n",
              "  </div>\n",
              "\n",
              "\n",
              "<div id=\"df-bb608f1e-1617-4abb-8469-6c1a8c909758\">\n",
              "  <button class=\"colab-df-quickchart\" onclick=\"quickchart('df-bb608f1e-1617-4abb-8469-6c1a8c909758')\"\n",
              "            title=\"Suggest charts\"\n",
              "            style=\"display:none;\">\n",
              "\n",
              "<svg xmlns=\"http://www.w3.org/2000/svg\" height=\"24px\"viewBox=\"0 0 24 24\"\n",
              "     width=\"24px\">\n",
              "    <g>\n",
              "        <path d=\"M19 3H5c-1.1 0-2 .9-2 2v14c0 1.1.9 2 2 2h14c1.1 0 2-.9 2-2V5c0-1.1-.9-2-2-2zM9 17H7v-7h2v7zm4 0h-2V7h2v10zm4 0h-2v-4h2v4z\"/>\n",
              "    </g>\n",
              "</svg>\n",
              "  </button>\n",
              "\n",
              "<style>\n",
              "  .colab-df-quickchart {\n",
              "      --bg-color: #E8F0FE;\n",
              "      --fill-color: #1967D2;\n",
              "      --hover-bg-color: #E2EBFA;\n",
              "      --hover-fill-color: #174EA6;\n",
              "      --disabled-fill-color: #AAA;\n",
              "      --disabled-bg-color: #DDD;\n",
              "  }\n",
              "\n",
              "  [theme=dark] .colab-df-quickchart {\n",
              "      --bg-color: #3B4455;\n",
              "      --fill-color: #D2E3FC;\n",
              "      --hover-bg-color: #434B5C;\n",
              "      --hover-fill-color: #FFFFFF;\n",
              "      --disabled-bg-color: #3B4455;\n",
              "      --disabled-fill-color: #666;\n",
              "  }\n",
              "\n",
              "  .colab-df-quickchart {\n",
              "    background-color: var(--bg-color);\n",
              "    border: none;\n",
              "    border-radius: 50%;\n",
              "    cursor: pointer;\n",
              "    display: none;\n",
              "    fill: var(--fill-color);\n",
              "    height: 32px;\n",
              "    padding: 0;\n",
              "    width: 32px;\n",
              "  }\n",
              "\n",
              "  .colab-df-quickchart:hover {\n",
              "    background-color: var(--hover-bg-color);\n",
              "    box-shadow: 0 1px 2px rgba(60, 64, 67, 0.3), 0 1px 3px 1px rgba(60, 64, 67, 0.15);\n",
              "    fill: var(--button-hover-fill-color);\n",
              "  }\n",
              "\n",
              "  .colab-df-quickchart-complete:disabled,\n",
              "  .colab-df-quickchart-complete:disabled:hover {\n",
              "    background-color: var(--disabled-bg-color);\n",
              "    fill: var(--disabled-fill-color);\n",
              "    box-shadow: none;\n",
              "  }\n",
              "\n",
              "  .colab-df-spinner {\n",
              "    border: 2px solid var(--fill-color);\n",
              "    border-color: transparent;\n",
              "    border-bottom-color: var(--fill-color);\n",
              "    animation:\n",
              "      spin 1s steps(1) infinite;\n",
              "  }\n",
              "\n",
              "  @keyframes spin {\n",
              "    0% {\n",
              "      border-color: transparent;\n",
              "      border-bottom-color: var(--fill-color);\n",
              "      border-left-color: var(--fill-color);\n",
              "    }\n",
              "    20% {\n",
              "      border-color: transparent;\n",
              "      border-left-color: var(--fill-color);\n",
              "      border-top-color: var(--fill-color);\n",
              "    }\n",
              "    30% {\n",
              "      border-color: transparent;\n",
              "      border-left-color: var(--fill-color);\n",
              "      border-top-color: var(--fill-color);\n",
              "      border-right-color: var(--fill-color);\n",
              "    }\n",
              "    40% {\n",
              "      border-color: transparent;\n",
              "      border-right-color: var(--fill-color);\n",
              "      border-top-color: var(--fill-color);\n",
              "    }\n",
              "    60% {\n",
              "      border-color: transparent;\n",
              "      border-right-color: var(--fill-color);\n",
              "    }\n",
              "    80% {\n",
              "      border-color: transparent;\n",
              "      border-right-color: var(--fill-color);\n",
              "      border-bottom-color: var(--fill-color);\n",
              "    }\n",
              "    90% {\n",
              "      border-color: transparent;\n",
              "      border-bottom-color: var(--fill-color);\n",
              "    }\n",
              "  }\n",
              "</style>\n",
              "\n",
              "  <script>\n",
              "    async function quickchart(key) {\n",
              "      const quickchartButtonEl =\n",
              "        document.querySelector('#' + key + ' button');\n",
              "      quickchartButtonEl.disabled = true;  // To prevent multiple clicks.\n",
              "      quickchartButtonEl.classList.add('colab-df-spinner');\n",
              "      try {\n",
              "        const charts = await google.colab.kernel.invokeFunction(\n",
              "            'suggestCharts', [key], {});\n",
              "      } catch (error) {\n",
              "        console.error('Error during call to suggestCharts:', error);\n",
              "      }\n",
              "      quickchartButtonEl.classList.remove('colab-df-spinner');\n",
              "      quickchartButtonEl.classList.add('colab-df-quickchart-complete');\n",
              "    }\n",
              "    (() => {\n",
              "      let quickchartButtonEl =\n",
              "        document.querySelector('#df-bb608f1e-1617-4abb-8469-6c1a8c909758 button');\n",
              "      quickchartButtonEl.style.display =\n",
              "        google.colab.kernel.accessAllowed ? 'block' : 'none';\n",
              "    })();\n",
              "  </script>\n",
              "</div>\n",
              "\n",
              "  <div id=\"id_f4a7fede-59e9-40a3-bba6-92712ac19242\">\n",
              "    <style>\n",
              "      .colab-df-generate {\n",
              "        background-color: #E8F0FE;\n",
              "        border: none;\n",
              "        border-radius: 50%;\n",
              "        cursor: pointer;\n",
              "        display: none;\n",
              "        fill: #1967D2;\n",
              "        height: 32px;\n",
              "        padding: 0 0 0 0;\n",
              "        width: 32px;\n",
              "      }\n",
              "\n",
              "      .colab-df-generate:hover {\n",
              "        background-color: #E2EBFA;\n",
              "        box-shadow: 0px 1px 2px rgba(60, 64, 67, 0.3), 0px 1px 3px 1px rgba(60, 64, 67, 0.15);\n",
              "        fill: #174EA6;\n",
              "      }\n",
              "\n",
              "      [theme=dark] .colab-df-generate {\n",
              "        background-color: #3B4455;\n",
              "        fill: #D2E3FC;\n",
              "      }\n",
              "\n",
              "      [theme=dark] .colab-df-generate:hover {\n",
              "        background-color: #434B5C;\n",
              "        box-shadow: 0px 1px 3px 1px rgba(0, 0, 0, 0.15);\n",
              "        filter: drop-shadow(0px 1px 2px rgba(0, 0, 0, 0.3));\n",
              "        fill: #FFFFFF;\n",
              "      }\n",
              "    </style>\n",
              "    <button class=\"colab-df-generate\" onclick=\"generateWithVariable('final_submission')\"\n",
              "            title=\"Generate code using this dataframe.\"\n",
              "            style=\"display:none;\">\n",
              "\n",
              "  <svg xmlns=\"http://www.w3.org/2000/svg\" height=\"24px\"viewBox=\"0 0 24 24\"\n",
              "       width=\"24px\">\n",
              "    <path d=\"M7,19H8.4L18.45,9,17,7.55,7,17.6ZM5,21V16.75L18.45,3.32a2,2,0,0,1,2.83,0l1.4,1.43a1.91,1.91,0,0,1,.58,1.4,1.91,1.91,0,0,1-.58,1.4L9.25,21ZM18.45,9,17,7.55Zm-12,3A5.31,5.31,0,0,0,4.9,8.1,5.31,5.31,0,0,0,1,6.5,5.31,5.31,0,0,0,4.9,4.9,5.31,5.31,0,0,0,6.5,1,5.31,5.31,0,0,0,8.1,4.9,5.31,5.31,0,0,0,12,6.5,5.46,5.46,0,0,0,6.5,12Z\"/>\n",
              "  </svg>\n",
              "    </button>\n",
              "    <script>\n",
              "      (() => {\n",
              "      const buttonEl =\n",
              "        document.querySelector('#id_f4a7fede-59e9-40a3-bba6-92712ac19242 button.colab-df-generate');\n",
              "      buttonEl.style.display =\n",
              "        google.colab.kernel.accessAllowed ? 'block' : 'none';\n",
              "\n",
              "      buttonEl.onclick = () => {\n",
              "        google.colab.notebook.generateWithVariable('final_submission');\n",
              "      }\n",
              "      })();\n",
              "    </script>\n",
              "  </div>\n",
              "\n",
              "    </div>\n",
              "  </div>\n"
            ]
          },
          "metadata": {},
          "execution_count": 78
        }
      ],
      "source": [
        "final_submission"
      ]
    },
    {
      "cell_type": "code",
      "execution_count": 79,
      "id": "9fb180b2-e09e-498b-b1b2-19fecae98876",
      "metadata": {
        "execution": {
          "iopub.execute_input": "2022-11-13T15:56:11.123697Z",
          "iopub.status.busy": "2022-11-13T15:56:11.123487Z",
          "iopub.status.idle": "2022-11-13T15:56:11.147299Z",
          "shell.execute_reply": "2022-11-13T15:56:11.146940Z",
          "shell.execute_reply.started": "2022-11-13T15:56:11.123684Z"
        },
        "id": "9fb180b2-e09e-498b-b1b2-19fecae98876",
        "tags": []
      },
      "outputs": [],
      "source": [
        "final_submission.to_csv(model_folder/'final_sub.csv', index = False)"
      ]
    },
    {
      "cell_type": "code",
      "execution_count": 80,
      "id": "ee271660-0f2d-4bde-8750-b692da0b79bc",
      "metadata": {
        "execution": {
          "iopub.execute_input": "2022-11-13T15:56:11.934283Z",
          "iopub.status.busy": "2022-11-13T15:56:11.934068Z",
          "iopub.status.idle": "2022-11-13T15:56:12.161320Z",
          "shell.execute_reply": "2022-11-13T15:56:12.160782Z",
          "shell.execute_reply.started": "2022-11-13T15:56:11.934268Z"
        },
        "id": "ee271660-0f2d-4bde-8750-b692da0b79bc",
        "outputId": "4aa9d1ce-70b2-4319-86d1-da1e93693ead",
        "tags": [],
        "colab": {
          "base_uri": "https://localhost:8080/"
        }
      },
      "outputs": [
        {
          "output_type": "stream",
          "name": "stdout",
          "text": [
            "image,labels\n",
            "test_image_1.jpg,healthy\n",
            "test_image_10.jpg,complex frog_eye_leaf_spot\n",
            "test_image_100.jpg,frog_eye_leaf_spot powdery_mildew\n",
            "test_image_1000.jpg,frog_eye_leaf_spot scab\n",
            "test_image_1001.jpg,frog_eye_leaf_spot\n",
            "test_image_1002.jpg,frog_eye_leaf_spot\n",
            "test_image_1003.jpg,frog_eye_leaf_spot\n",
            "test_image_1004.jpg,complex\n",
            "test_image_1005.jpg,complex scab\n"
          ]
        }
      ],
      "source": [
        "!head {model_folder/'first_sub.csv'}"
      ]
    },
    {
      "cell_type": "code",
      "source": [
        "comp = 'inclassplantpathologysmallf23'\n",
        "api.competition_submit(model_folder/'final_sub.csv', 'Final dec15', comp)"
      ],
      "metadata": {
        "colab": {
          "base_uri": "https://localhost:8080/"
        },
        "id": "NAMcoTeqQ9dX",
        "outputId": "09e3d83a-68ab-4d17-9f74-0de5d20b93a0"
      },
      "id": "NAMcoTeqQ9dX",
      "execution_count": 81,
      "outputs": [
        {
          "output_type": "stream",
          "name": "stderr",
          "text": [
            "100%|██████████| 169k/169k [00:01<00:00, 97.1kB/s]\n"
          ]
        },
        {
          "output_type": "execute_result",
          "data": {
            "text/plain": [
              "Successfully submitted to Inclass_Plant_Pathology_Small_F23"
            ]
          },
          "metadata": {},
          "execution_count": 81
        }
      ]
    }
  ],
  "metadata": {
    "accelerator": "GPU",
    "colab": {
      "provenance": [],
      "gpuClass": "premium",
      "gpuType": "T4"
    },
    "kernelspec": {
      "display_name": "Python 3",
      "name": "python3"
    },
    "language_info": {
      "codemirror_mode": {
        "name": "ipython",
        "version": 3
      },
      "file_extension": ".py",
      "mimetype": "text/x-python",
      "name": "python",
      "nbconvert_exporter": "python",
      "pygments_lexer": "ipython3",
      "version": "3.9.13"
    },
    "widgets": {
      "application/vnd.jupyter.widget-state+json": {
        "c4123a4365c54b32b4b4cda42c766b28": {
          "model_module": "@jupyter-widgets/controls",
          "model_name": "HBoxModel",
          "model_module_version": "1.5.0",
          "state": {
            "_dom_classes": [],
            "_model_module": "@jupyter-widgets/controls",
            "_model_module_version": "1.5.0",
            "_model_name": "HBoxModel",
            "_view_count": null,
            "_view_module": "@jupyter-widgets/controls",
            "_view_module_version": "1.5.0",
            "_view_name": "HBoxView",
            "box_style": "",
            "children": [
              "IPY_MODEL_bdce566c8c28430aade20ff598e866e1",
              "IPY_MODEL_b3025c89b3d34d60b0eeb9135556daef",
              "IPY_MODEL_e8d498c54e90411c937061835b0e1d5a"
            ],
            "layout": "IPY_MODEL_ae3cbd238ef6444680a05c2fc2a35cfe"
          }
        },
        "bdce566c8c28430aade20ff598e866e1": {
          "model_module": "@jupyter-widgets/controls",
          "model_name": "HTMLModel",
          "model_module_version": "1.5.0",
          "state": {
            "_dom_classes": [],
            "_model_module": "@jupyter-widgets/controls",
            "_model_module_version": "1.5.0",
            "_model_name": "HTMLModel",
            "_view_count": null,
            "_view_module": "@jupyter-widgets/controls",
            "_view_module_version": "1.5.0",
            "_view_name": "HTMLView",
            "description": "",
            "description_tooltip": null,
            "layout": "IPY_MODEL_bf90d0df743344c0bbb55da199a4ef04",
            "placeholder": "​",
            "style": "IPY_MODEL_4521c1d8732e4f9e952fd74796631a8b",
            "value": "model.safetensors: 100%"
          }
        },
        "b3025c89b3d34d60b0eeb9135556daef": {
          "model_module": "@jupyter-widgets/controls",
          "model_name": "FloatProgressModel",
          "model_module_version": "1.5.0",
          "state": {
            "_dom_classes": [],
            "_model_module": "@jupyter-widgets/controls",
            "_model_module_version": "1.5.0",
            "_model_name": "FloatProgressModel",
            "_view_count": null,
            "_view_module": "@jupyter-widgets/controls",
            "_view_module_version": "1.5.0",
            "_view_name": "ProgressView",
            "bar_style": "success",
            "description": "",
            "description_tooltip": null,
            "layout": "IPY_MODEL_465e2c49a14e4ad4bb4bbc33f99c89cc",
            "max": 64198558,
            "min": 0,
            "orientation": "horizontal",
            "style": "IPY_MODEL_3533ccb912d748dfb65dce437c8710fc",
            "value": 64198558
          }
        },
        "e8d498c54e90411c937061835b0e1d5a": {
          "model_module": "@jupyter-widgets/controls",
          "model_name": "HTMLModel",
          "model_module_version": "1.5.0",
          "state": {
            "_dom_classes": [],
            "_model_module": "@jupyter-widgets/controls",
            "_model_module_version": "1.5.0",
            "_model_name": "HTMLModel",
            "_view_count": null,
            "_view_module": "@jupyter-widgets/controls",
            "_view_module_version": "1.5.0",
            "_view_name": "HTMLView",
            "description": "",
            "description_tooltip": null,
            "layout": "IPY_MODEL_e1f21baf020e4491b9e910727ea00e99",
            "placeholder": "​",
            "style": "IPY_MODEL_d1ca8cd8f3c74b4b9dbbe00a542640de",
            "value": " 64.2M/64.2M [00:00&lt;00:00, 89.2MB/s]"
          }
        },
        "ae3cbd238ef6444680a05c2fc2a35cfe": {
          "model_module": "@jupyter-widgets/base",
          "model_name": "LayoutModel",
          "model_module_version": "1.2.0",
          "state": {
            "_model_module": "@jupyter-widgets/base",
            "_model_module_version": "1.2.0",
            "_model_name": "LayoutModel",
            "_view_count": null,
            "_view_module": "@jupyter-widgets/base",
            "_view_module_version": "1.2.0",
            "_view_name": "LayoutView",
            "align_content": null,
            "align_items": null,
            "align_self": null,
            "border": null,
            "bottom": null,
            "display": null,
            "flex": null,
            "flex_flow": null,
            "grid_area": null,
            "grid_auto_columns": null,
            "grid_auto_flow": null,
            "grid_auto_rows": null,
            "grid_column": null,
            "grid_gap": null,
            "grid_row": null,
            "grid_template_areas": null,
            "grid_template_columns": null,
            "grid_template_rows": null,
            "height": null,
            "justify_content": null,
            "justify_items": null,
            "left": null,
            "margin": null,
            "max_height": null,
            "max_width": null,
            "min_height": null,
            "min_width": null,
            "object_fit": null,
            "object_position": null,
            "order": null,
            "overflow": null,
            "overflow_x": null,
            "overflow_y": null,
            "padding": null,
            "right": null,
            "top": null,
            "visibility": null,
            "width": null
          }
        },
        "bf90d0df743344c0bbb55da199a4ef04": {
          "model_module": "@jupyter-widgets/base",
          "model_name": "LayoutModel",
          "model_module_version": "1.2.0",
          "state": {
            "_model_module": "@jupyter-widgets/base",
            "_model_module_version": "1.2.0",
            "_model_name": "LayoutModel",
            "_view_count": null,
            "_view_module": "@jupyter-widgets/base",
            "_view_module_version": "1.2.0",
            "_view_name": "LayoutView",
            "align_content": null,
            "align_items": null,
            "align_self": null,
            "border": null,
            "bottom": null,
            "display": null,
            "flex": null,
            "flex_flow": null,
            "grid_area": null,
            "grid_auto_columns": null,
            "grid_auto_flow": null,
            "grid_auto_rows": null,
            "grid_column": null,
            "grid_gap": null,
            "grid_row": null,
            "grid_template_areas": null,
            "grid_template_columns": null,
            "grid_template_rows": null,
            "height": null,
            "justify_content": null,
            "justify_items": null,
            "left": null,
            "margin": null,
            "max_height": null,
            "max_width": null,
            "min_height": null,
            "min_width": null,
            "object_fit": null,
            "object_position": null,
            "order": null,
            "overflow": null,
            "overflow_x": null,
            "overflow_y": null,
            "padding": null,
            "right": null,
            "top": null,
            "visibility": null,
            "width": null
          }
        },
        "4521c1d8732e4f9e952fd74796631a8b": {
          "model_module": "@jupyter-widgets/controls",
          "model_name": "DescriptionStyleModel",
          "model_module_version": "1.5.0",
          "state": {
            "_model_module": "@jupyter-widgets/controls",
            "_model_module_version": "1.5.0",
            "_model_name": "DescriptionStyleModel",
            "_view_count": null,
            "_view_module": "@jupyter-widgets/base",
            "_view_module_version": "1.2.0",
            "_view_name": "StyleView",
            "description_width": ""
          }
        },
        "465e2c49a14e4ad4bb4bbc33f99c89cc": {
          "model_module": "@jupyter-widgets/base",
          "model_name": "LayoutModel",
          "model_module_version": "1.2.0",
          "state": {
            "_model_module": "@jupyter-widgets/base",
            "_model_module_version": "1.2.0",
            "_model_name": "LayoutModel",
            "_view_count": null,
            "_view_module": "@jupyter-widgets/base",
            "_view_module_version": "1.2.0",
            "_view_name": "LayoutView",
            "align_content": null,
            "align_items": null,
            "align_self": null,
            "border": null,
            "bottom": null,
            "display": null,
            "flex": null,
            "flex_flow": null,
            "grid_area": null,
            "grid_auto_columns": null,
            "grid_auto_flow": null,
            "grid_auto_rows": null,
            "grid_column": null,
            "grid_gap": null,
            "grid_row": null,
            "grid_template_areas": null,
            "grid_template_columns": null,
            "grid_template_rows": null,
            "height": null,
            "justify_content": null,
            "justify_items": null,
            "left": null,
            "margin": null,
            "max_height": null,
            "max_width": null,
            "min_height": null,
            "min_width": null,
            "object_fit": null,
            "object_position": null,
            "order": null,
            "overflow": null,
            "overflow_x": null,
            "overflow_y": null,
            "padding": null,
            "right": null,
            "top": null,
            "visibility": null,
            "width": null
          }
        },
        "3533ccb912d748dfb65dce437c8710fc": {
          "model_module": "@jupyter-widgets/controls",
          "model_name": "ProgressStyleModel",
          "model_module_version": "1.5.0",
          "state": {
            "_model_module": "@jupyter-widgets/controls",
            "_model_module_version": "1.5.0",
            "_model_name": "ProgressStyleModel",
            "_view_count": null,
            "_view_module": "@jupyter-widgets/base",
            "_view_module_version": "1.2.0",
            "_view_name": "StyleView",
            "bar_color": null,
            "description_width": ""
          }
        },
        "e1f21baf020e4491b9e910727ea00e99": {
          "model_module": "@jupyter-widgets/base",
          "model_name": "LayoutModel",
          "model_module_version": "1.2.0",
          "state": {
            "_model_module": "@jupyter-widgets/base",
            "_model_module_version": "1.2.0",
            "_model_name": "LayoutModel",
            "_view_count": null,
            "_view_module": "@jupyter-widgets/base",
            "_view_module_version": "1.2.0",
            "_view_name": "LayoutView",
            "align_content": null,
            "align_items": null,
            "align_self": null,
            "border": null,
            "bottom": null,
            "display": null,
            "flex": null,
            "flex_flow": null,
            "grid_area": null,
            "grid_auto_columns": null,
            "grid_auto_flow": null,
            "grid_auto_rows": null,
            "grid_column": null,
            "grid_gap": null,
            "grid_row": null,
            "grid_template_areas": null,
            "grid_template_columns": null,
            "grid_template_rows": null,
            "height": null,
            "justify_content": null,
            "justify_items": null,
            "left": null,
            "margin": null,
            "max_height": null,
            "max_width": null,
            "min_height": null,
            "min_width": null,
            "object_fit": null,
            "object_position": null,
            "order": null,
            "overflow": null,
            "overflow_x": null,
            "overflow_y": null,
            "padding": null,
            "right": null,
            "top": null,
            "visibility": null,
            "width": null
          }
        },
        "d1ca8cd8f3c74b4b9dbbe00a542640de": {
          "model_module": "@jupyter-widgets/controls",
          "model_name": "DescriptionStyleModel",
          "model_module_version": "1.5.0",
          "state": {
            "_model_module": "@jupyter-widgets/controls",
            "_model_module_version": "1.5.0",
            "_model_name": "DescriptionStyleModel",
            "_view_count": null,
            "_view_module": "@jupyter-widgets/base",
            "_view_module_version": "1.2.0",
            "_view_name": "StyleView",
            "description_width": ""
          }
        }
      }
    }
  },
  "nbformat": 4,
  "nbformat_minor": 5
}